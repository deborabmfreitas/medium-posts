{
 "cells": [
  {
   "cell_type": "markdown",
   "id": "b7805d79",
   "metadata": {
    "heading_collapsed": true
   },
   "source": [
    "# Carregando os dados"
   ]
  },
  {
   "cell_type": "code",
   "execution_count": 1,
   "id": "d6c5422f",
   "metadata": {
    "ExecuteTime": {
     "end_time": "2023-04-20T15:11:56.601610Z",
     "start_time": "2023-04-20T15:11:55.794700Z"
    },
    "hidden": true
   },
   "outputs": [],
   "source": [
    "import pandas as pd\n",
    "import numpy as np"
   ]
  },
  {
   "cell_type": "code",
   "execution_count": 2,
   "id": "88f68c5f",
   "metadata": {
    "ExecuteTime": {
     "end_time": "2023-04-20T15:11:56.747529Z",
     "start_time": "2023-04-20T15:11:56.613877Z"
    },
    "hidden": true
   },
   "outputs": [],
   "source": [
    "data = pd.read_csv('data/census.csv')"
   ]
  },
  {
   "cell_type": "code",
   "execution_count": 3,
   "id": "ffe465ab",
   "metadata": {
    "ExecuteTime": {
     "end_time": "2023-04-20T15:11:56.801449Z",
     "start_time": "2023-04-20T15:11:56.753237Z"
    },
    "hidden": true
   },
   "outputs": [
    {
     "data": {
      "text/html": [
       "<div>\n",
       "<style scoped>\n",
       "    .dataframe tbody tr th:only-of-type {\n",
       "        vertical-align: middle;\n",
       "    }\n",
       "\n",
       "    .dataframe tbody tr th {\n",
       "        vertical-align: top;\n",
       "    }\n",
       "\n",
       "    .dataframe thead th {\n",
       "        text-align: right;\n",
       "    }\n",
       "</style>\n",
       "<table border=\"1\" class=\"dataframe\">\n",
       "  <thead>\n",
       "    <tr style=\"text-align: right;\">\n",
       "      <th></th>\n",
       "      <th>age</th>\n",
       "      <th>workclass</th>\n",
       "      <th>final-weight</th>\n",
       "      <th>education</th>\n",
       "      <th>education-num</th>\n",
       "      <th>marital-status</th>\n",
       "      <th>occupation</th>\n",
       "      <th>relationship</th>\n",
       "      <th>race</th>\n",
       "      <th>sex</th>\n",
       "      <th>capital-gain</th>\n",
       "      <th>capital-loos</th>\n",
       "      <th>hour-per-week</th>\n",
       "      <th>native-country</th>\n",
       "      <th>income</th>\n",
       "    </tr>\n",
       "  </thead>\n",
       "  <tbody>\n",
       "    <tr>\n",
       "      <th>0</th>\n",
       "      <td>39.0</td>\n",
       "      <td>State-gov</td>\n",
       "      <td>77516</td>\n",
       "      <td>Bachelors</td>\n",
       "      <td>13</td>\n",
       "      <td>Never-married</td>\n",
       "      <td>Adm-clerical</td>\n",
       "      <td>Not-in-family</td>\n",
       "      <td>White</td>\n",
       "      <td>Male</td>\n",
       "      <td>2174</td>\n",
       "      <td>0</td>\n",
       "      <td>40</td>\n",
       "      <td>United-States</td>\n",
       "      <td>&lt;=50K</td>\n",
       "    </tr>\n",
       "    <tr>\n",
       "      <th>1</th>\n",
       "      <td>50.0</td>\n",
       "      <td>Self-emp-not-inc</td>\n",
       "      <td>83311</td>\n",
       "      <td>Bachelors</td>\n",
       "      <td>13</td>\n",
       "      <td>Married-civ-spouse</td>\n",
       "      <td>Exec-managerial</td>\n",
       "      <td>Husband</td>\n",
       "      <td>White</td>\n",
       "      <td>Male</td>\n",
       "      <td>0</td>\n",
       "      <td>0</td>\n",
       "      <td>13</td>\n",
       "      <td>United-States</td>\n",
       "      <td>&lt;=50K</td>\n",
       "    </tr>\n",
       "    <tr>\n",
       "      <th>2</th>\n",
       "      <td>38.0</td>\n",
       "      <td>Private</td>\n",
       "      <td>215646</td>\n",
       "      <td>HS-grad</td>\n",
       "      <td>9</td>\n",
       "      <td>Divorced</td>\n",
       "      <td>Handlers-cleaners</td>\n",
       "      <td>Not-in-family</td>\n",
       "      <td>White</td>\n",
       "      <td>Male</td>\n",
       "      <td>0</td>\n",
       "      <td>0</td>\n",
       "      <td>40</td>\n",
       "      <td>United-States</td>\n",
       "      <td>&lt;=50K</td>\n",
       "    </tr>\n",
       "    <tr>\n",
       "      <th>3</th>\n",
       "      <td>53.0</td>\n",
       "      <td>Private</td>\n",
       "      <td>234721</td>\n",
       "      <td>11th</td>\n",
       "      <td>7</td>\n",
       "      <td>Married-civ-spouse</td>\n",
       "      <td>Handlers-cleaners</td>\n",
       "      <td>Husband</td>\n",
       "      <td>Black</td>\n",
       "      <td>Male</td>\n",
       "      <td>0</td>\n",
       "      <td>0</td>\n",
       "      <td>40</td>\n",
       "      <td>United-States</td>\n",
       "      <td>&lt;=50K</td>\n",
       "    </tr>\n",
       "    <tr>\n",
       "      <th>4</th>\n",
       "      <td>28.0</td>\n",
       "      <td>Private</td>\n",
       "      <td>338409</td>\n",
       "      <td>Bachelors</td>\n",
       "      <td>13</td>\n",
       "      <td>Married-civ-spouse</td>\n",
       "      <td>Prof-specialty</td>\n",
       "      <td>Wife</td>\n",
       "      <td>Black</td>\n",
       "      <td>Female</td>\n",
       "      <td>0</td>\n",
       "      <td>0</td>\n",
       "      <td>40</td>\n",
       "      <td>Cuba</td>\n",
       "      <td>&lt;=50K</td>\n",
       "    </tr>\n",
       "    <tr>\n",
       "      <th>...</th>\n",
       "      <td>...</td>\n",
       "      <td>...</td>\n",
       "      <td>...</td>\n",
       "      <td>...</td>\n",
       "      <td>...</td>\n",
       "      <td>...</td>\n",
       "      <td>...</td>\n",
       "      <td>...</td>\n",
       "      <td>...</td>\n",
       "      <td>...</td>\n",
       "      <td>...</td>\n",
       "      <td>...</td>\n",
       "      <td>...</td>\n",
       "      <td>...</td>\n",
       "      <td>...</td>\n",
       "    </tr>\n",
       "    <tr>\n",
       "      <th>32556</th>\n",
       "      <td>27.0</td>\n",
       "      <td>Private</td>\n",
       "      <td>257302</td>\n",
       "      <td>Assoc-acdm</td>\n",
       "      <td>12</td>\n",
       "      <td>Married-civ-spouse</td>\n",
       "      <td>Tech-support</td>\n",
       "      <td>Wife</td>\n",
       "      <td>White</td>\n",
       "      <td>Female</td>\n",
       "      <td>0</td>\n",
       "      <td>0</td>\n",
       "      <td>38</td>\n",
       "      <td>United-States</td>\n",
       "      <td>&lt;=50K</td>\n",
       "    </tr>\n",
       "    <tr>\n",
       "      <th>32557</th>\n",
       "      <td>40.0</td>\n",
       "      <td>Private</td>\n",
       "      <td>154374</td>\n",
       "      <td>HS-grad</td>\n",
       "      <td>9</td>\n",
       "      <td>Married-civ-spouse</td>\n",
       "      <td>Machine-op-inspct</td>\n",
       "      <td>Husband</td>\n",
       "      <td>White</td>\n",
       "      <td>Male</td>\n",
       "      <td>0</td>\n",
       "      <td>0</td>\n",
       "      <td>40</td>\n",
       "      <td>United-States</td>\n",
       "      <td>&gt;50K</td>\n",
       "    </tr>\n",
       "    <tr>\n",
       "      <th>32558</th>\n",
       "      <td>58.0</td>\n",
       "      <td>Private</td>\n",
       "      <td>151910</td>\n",
       "      <td>HS-grad</td>\n",
       "      <td>9</td>\n",
       "      <td>Widowed</td>\n",
       "      <td>Adm-clerical</td>\n",
       "      <td>Unmarried</td>\n",
       "      <td>White</td>\n",
       "      <td>Female</td>\n",
       "      <td>0</td>\n",
       "      <td>0</td>\n",
       "      <td>40</td>\n",
       "      <td>United-States</td>\n",
       "      <td>&lt;=50K</td>\n",
       "    </tr>\n",
       "    <tr>\n",
       "      <th>32559</th>\n",
       "      <td>22.0</td>\n",
       "      <td>Private</td>\n",
       "      <td>201490</td>\n",
       "      <td>HS-grad</td>\n",
       "      <td>9</td>\n",
       "      <td>Never-married</td>\n",
       "      <td>Adm-clerical</td>\n",
       "      <td>Own-child</td>\n",
       "      <td>White</td>\n",
       "      <td>Male</td>\n",
       "      <td>0</td>\n",
       "      <td>0</td>\n",
       "      <td>20</td>\n",
       "      <td>United-States</td>\n",
       "      <td>&lt;=50K</td>\n",
       "    </tr>\n",
       "    <tr>\n",
       "      <th>32560</th>\n",
       "      <td>52.0</td>\n",
       "      <td>Self-emp-inc</td>\n",
       "      <td>287927</td>\n",
       "      <td>HS-grad</td>\n",
       "      <td>9</td>\n",
       "      <td>Married-civ-spouse</td>\n",
       "      <td>Exec-managerial</td>\n",
       "      <td>Wife</td>\n",
       "      <td>White</td>\n",
       "      <td>Female</td>\n",
       "      <td>15024</td>\n",
       "      <td>0</td>\n",
       "      <td>40</td>\n",
       "      <td>United-States</td>\n",
       "      <td>&gt;50K</td>\n",
       "    </tr>\n",
       "  </tbody>\n",
       "</table>\n",
       "<p>32561 rows × 15 columns</p>\n",
       "</div>"
      ],
      "text/plain": [
       "        age          workclass  final-weight    education  education-num  \\\n",
       "0      39.0          State-gov         77516    Bachelors             13   \n",
       "1      50.0   Self-emp-not-inc         83311    Bachelors             13   \n",
       "2      38.0            Private        215646      HS-grad              9   \n",
       "3      53.0            Private        234721         11th              7   \n",
       "4      28.0            Private        338409    Bachelors             13   \n",
       "...     ...                ...           ...          ...            ...   \n",
       "32556  27.0            Private        257302   Assoc-acdm             12   \n",
       "32557  40.0            Private        154374      HS-grad              9   \n",
       "32558  58.0            Private        151910      HS-grad              9   \n",
       "32559  22.0            Private        201490      HS-grad              9   \n",
       "32560  52.0       Self-emp-inc        287927      HS-grad              9   \n",
       "\n",
       "            marital-status          occupation    relationship    race  \\\n",
       "0            Never-married        Adm-clerical   Not-in-family   White   \n",
       "1       Married-civ-spouse     Exec-managerial         Husband   White   \n",
       "2                 Divorced   Handlers-cleaners   Not-in-family   White   \n",
       "3       Married-civ-spouse   Handlers-cleaners         Husband   Black   \n",
       "4       Married-civ-spouse      Prof-specialty            Wife   Black   \n",
       "...                    ...                 ...             ...     ...   \n",
       "32556   Married-civ-spouse        Tech-support            Wife   White   \n",
       "32557   Married-civ-spouse   Machine-op-inspct         Husband   White   \n",
       "32558              Widowed        Adm-clerical       Unmarried   White   \n",
       "32559        Never-married        Adm-clerical       Own-child   White   \n",
       "32560   Married-civ-spouse     Exec-managerial            Wife   White   \n",
       "\n",
       "           sex  capital-gain  capital-loos  hour-per-week  native-country  \\\n",
       "0         Male          2174             0             40   United-States   \n",
       "1         Male             0             0             13   United-States   \n",
       "2         Male             0             0             40   United-States   \n",
       "3         Male             0             0             40   United-States   \n",
       "4       Female             0             0             40            Cuba   \n",
       "...        ...           ...           ...            ...             ...   \n",
       "32556   Female             0             0             38   United-States   \n",
       "32557     Male             0             0             40   United-States   \n",
       "32558   Female             0             0             40   United-States   \n",
       "32559     Male             0             0             20   United-States   \n",
       "32560   Female         15024             0             40   United-States   \n",
       "\n",
       "       income  \n",
       "0       <=50K  \n",
       "1       <=50K  \n",
       "2       <=50K  \n",
       "3       <=50K  \n",
       "4       <=50K  \n",
       "...       ...  \n",
       "32556   <=50K  \n",
       "32557    >50K  \n",
       "32558   <=50K  \n",
       "32559   <=50K  \n",
       "32560    >50K  \n",
       "\n",
       "[32561 rows x 15 columns]"
      ]
     },
     "execution_count": 3,
     "metadata": {},
     "output_type": "execute_result"
    }
   ],
   "source": [
    "data"
   ]
  },
  {
   "cell_type": "markdown",
   "id": "67950d24",
   "metadata": {
    "heading_collapsed": true
   },
   "source": [
    "# Separando dados de treino e de teste"
   ]
  },
  {
   "cell_type": "code",
   "execution_count": 4,
   "id": "9534f216",
   "metadata": {
    "ExecuteTime": {
     "end_time": "2023-04-20T15:11:57.453730Z",
     "start_time": "2023-04-20T15:11:56.806596Z"
    },
    "hidden": true
   },
   "outputs": [],
   "source": [
    "from sklearn.model_selection import train_test_split"
   ]
  },
  {
   "cell_type": "code",
   "execution_count": 5,
   "id": "5541e38f",
   "metadata": {
    "ExecuteTime": {
     "end_time": "2023-04-20T15:11:57.469474Z",
     "start_time": "2023-04-20T15:11:57.457178Z"
    },
    "hidden": true
   },
   "outputs": [],
   "source": [
    "df = data.copy()"
   ]
  },
  {
   "cell_type": "code",
   "execution_count": 6,
   "id": "dd0c4c72",
   "metadata": {
    "ExecuteTime": {
     "end_time": "2023-04-20T15:11:57.507775Z",
     "start_time": "2023-04-20T15:11:57.473734Z"
    },
    "hidden": true
   },
   "outputs": [],
   "source": [
    "# separando features de targets\n",
    "\n",
    "X = df.drop('income', axis=1)\n",
    "y = df['income']"
   ]
  },
  {
   "cell_type": "code",
   "execution_count": 7,
   "id": "1f869df4",
   "metadata": {
    "ExecuteTime": {
     "end_time": "2023-04-20T15:11:57.636990Z",
     "start_time": "2023-04-20T15:11:57.512312Z"
    },
    "hidden": true
   },
   "outputs": [],
   "source": [
    "# separando os dados em treino e teste\n",
    "\n",
    "X_train_val, X_test, y_train_val, y_test = train_test_split(\n",
    "    X, y, test_size=0.1, stratify=y, random_state=42)\n",
    "\n",
    "# separando dados em treino e validação\n",
    "\n",
    "X_train, X_val, y_train, y_val = train_test_split(\n",
    "    X_train_val, y_train_val, test_size=0.1, stratify=y_train_val, random_state=42)"
   ]
  },
  {
   "cell_type": "code",
   "execution_count": 8,
   "id": "a2ea4c21",
   "metadata": {
    "ExecuteTime": {
     "end_time": "2023-04-20T15:11:57.651827Z",
     "start_time": "2023-04-20T15:11:57.644271Z"
    },
    "hidden": true
   },
   "outputs": [
    {
     "name": "stdout",
     "output_type": "stream",
     "text": [
      "Dados de treino: 26373\n",
      "Dados de validação:2931\n",
      "Dados de teste: 3257\n"
     ]
    }
   ],
   "source": [
    "# instâncias por split\n",
    "\n",
    "print(f'Dados de treino: {X_train.shape[0]}')\n",
    "print(f'Dados de validação:{X_val.shape[0]}')\n",
    "print(f'Dados de teste: {X_test.shape[0]}')"
   ]
  },
  {
   "cell_type": "markdown",
   "id": "39fc9a1c",
   "metadata": {},
   "source": [
    "# EDA"
   ]
  },
  {
   "cell_type": "code",
   "execution_count": 9,
   "id": "49d22c36",
   "metadata": {
    "ExecuteTime": {
     "end_time": "2023-04-20T15:11:58.305526Z",
     "start_time": "2023-04-20T15:11:57.656470Z"
    }
   },
   "outputs": [],
   "source": [
    "import seaborn as sns\n",
    "import matplotlib.pyplot as plt"
   ]
  },
  {
   "cell_type": "code",
   "execution_count": 10,
   "id": "5d9372e1",
   "metadata": {
    "ExecuteTime": {
     "end_time": "2023-04-20T15:11:58.506646Z",
     "start_time": "2023-04-20T15:11:58.429083Z"
    }
   },
   "outputs": [
    {
     "name": "stdout",
     "output_type": "stream",
     "text": [
      "<class 'pandas.core.frame.DataFrame'>\n",
      "RangeIndex: 32561 entries, 0 to 32560\n",
      "Data columns (total 15 columns):\n",
      " #   Column          Non-Null Count  Dtype  \n",
      "---  ------          --------------  -----  \n",
      " 0   age             32552 non-null  float64\n",
      " 1   workclass       32561 non-null  object \n",
      " 2   final-weight    32561 non-null  int64  \n",
      " 3   education       32561 non-null  object \n",
      " 4   education-num   32561 non-null  int64  \n",
      " 5   marital-status  32561 non-null  object \n",
      " 6   occupation      32561 non-null  object \n",
      " 7   relationship    32561 non-null  object \n",
      " 8   race            32561 non-null  object \n",
      " 9   sex             32561 non-null  object \n",
      " 10  capital-gain    32561 non-null  int64  \n",
      " 11  capital-loos    32561 non-null  int64  \n",
      " 12  hour-per-week   32561 non-null  int64  \n",
      " 13  native-country  32561 non-null  object \n",
      " 14  income          32561 non-null  object \n",
      "dtypes: float64(1), int64(5), object(9)\n",
      "memory usage: 3.7+ MB\n"
     ]
    }
   ],
   "source": [
    "df.info()"
   ]
  },
  {
   "cell_type": "code",
   "execution_count": 32,
   "id": "b0e8d8d0",
   "metadata": {
    "ExecuteTime": {
     "end_time": "2023-04-20T15:33:36.115618Z",
     "start_time": "2023-04-20T15:33:36.035259Z"
    }
   },
   "outputs": [
    {
     "data": {
      "text/plain": [
       "age               9\n",
       "workclass         0\n",
       "final-weight      0\n",
       "education         0\n",
       "education-num     0\n",
       "marital-status    0\n",
       "occupation        0\n",
       "relationship      0\n",
       "race              0\n",
       "sex               0\n",
       "capital-gain      0\n",
       "capital-loos      0\n",
       "hour-per-week     0\n",
       "native-country    0\n",
       "income            0\n",
       "dtype: int64"
      ]
     },
     "execution_count": 32,
     "metadata": {},
     "output_type": "execute_result"
    }
   ],
   "source": [
    "# checando dados nulos\n",
    "\n",
    "df.isna().sum()"
   ]
  },
  {
   "cell_type": "code",
   "execution_count": 11,
   "id": "ade0cc3e",
   "metadata": {
    "ExecuteTime": {
     "end_time": "2023-04-20T15:11:58.524105Z",
     "start_time": "2023-04-20T15:11:58.510228Z"
    }
   },
   "outputs": [],
   "source": [
    "sns.set_style('whitegrid')"
   ]
  },
  {
   "cell_type": "code",
   "execution_count": 12,
   "id": "4a846963",
   "metadata": {
    "ExecuteTime": {
     "end_time": "2023-04-20T15:11:58.934611Z",
     "start_time": "2023-04-20T15:11:58.527718Z"
    }
   },
   "outputs": [
    {
     "data": {
      "text/plain": [
       "<AxesSubplot: xlabel='income', ylabel='count'>"
      ]
     },
     "execution_count": 12,
     "metadata": {},
     "output_type": "execute_result"
    },
    {
     "data": {
      "image/png": "[encoded data removed]",
      "text/plain": [
       "<Figure size 720x360 with 1 Axes>"
      ]
     },
     "metadata": {
      "needs_background": "light"
     },
     "output_type": "display_data"
    }
   ],
   "source": [
    "plt.figure(figsize=(10, 5))\n",
    "\n",
    "sns.countplot(data=X_train.join(y_train), x='income', palette=['g', 'r'])"
   ]
  },
  {
   "cell_type": "code",
   "execution_count": 13,
   "id": "e64a2dda",
   "metadata": {
    "ExecuteTime": {
     "end_time": "2023-04-20T15:11:58.960008Z",
     "start_time": "2023-04-20T15:11:58.938162Z"
    }
   },
   "outputs": [
    {
     "data": {
      "text/plain": [
       " <=50K    0.759186\n",
       " >50K     0.240814\n",
       "Name: income, dtype: float64"
      ]
     },
     "execution_count": 13,
     "metadata": {},
     "output_type": "execute_result"
    }
   ],
   "source": [
    "# checando a porcentagem dos dados\n",
    "\n",
    "y_train.value_counts(normalize=True)"
   ]
  },
  {
   "cell_type": "markdown",
   "id": "2129b7cf",
   "metadata": {},
   "source": [
    "## Análise de dados numéricos e categóricos"
   ]
  },
  {
   "cell_type": "code",
   "execution_count": 14,
   "id": "d6eaad77",
   "metadata": {
    "ExecuteTime": {
     "end_time": "2023-04-20T15:11:59.029659Z",
     "start_time": "2023-04-20T15:11:58.967315Z"
    }
   },
   "outputs": [],
   "source": [
    "# separando colunas com dados numéricos\n",
    "\n",
    "colunas_numericas = X_train.join(\n",
    "    y_train).select_dtypes(include=['int64', 'float64'])\n",
    "\n",
    "# separando colunas com dados categóricos\n",
    "\n",
    "colunas_categoricas = X_train.join(\n",
    "    y_train).select_dtypes(exclude=['int64', 'float64'])"
   ]
  },
  {
   "cell_type": "code",
   "execution_count": 15,
   "id": "6766959d",
   "metadata": {
    "ExecuteTime": {
     "end_time": "2023-04-20T15:12:01.895503Z",
     "start_time": "2023-04-20T15:11:59.034874Z"
    },
    "scrolled": true
   },
   "outputs": [
    {
     "data": {
      "image/png": "[encoded data removed]",
      "text/plain": [
       "<Figure size 1800x1800 with 6 Axes>"
      ]
     },
     "metadata": {
      "needs_background": "light"
     },
     "output_type": "display_data"
    }
   ],
   "source": [
    "# checando as distribuições das variáveis numéricas\n",
    "\n",
    "colunas_numericas.hist(figsize=(25, 25), bins=25)"
   ]
  },
  {
   "cell_type": "code",
   "execution_count": 27,
   "id": "3e82aff1",
   "metadata": {
    "ExecuteTime": {
     "end_time": "2023-04-20T15:26:04.114724Z",
     "start_time": "2023-04-20T15:26:04.022552Z"
    },
    "scrolled": true
   },
   "outputs": [
    {
     "data": {
      "text/html": [
       "<div>\n",
       "<style scoped>\n",
       "    .dataframe tbody tr th:only-of-type {\n",
       "        vertical-align: middle;\n",
       "    }\n",
       "\n",
       "    .dataframe tbody tr th {\n",
       "        vertical-align: top;\n",
       "    }\n",
       "\n",
       "    .dataframe thead th {\n",
       "        text-align: right;\n",
       "    }\n",
       "</style>\n",
       "<table border=\"1\" class=\"dataframe\">\n",
       "  <thead>\n",
       "    <tr style=\"text-align: right;\">\n",
       "      <th></th>\n",
       "      <th>age</th>\n",
       "      <th>final-weight</th>\n",
       "      <th>education-num</th>\n",
       "      <th>capital-gain</th>\n",
       "      <th>capital-loos</th>\n",
       "      <th>hour-per-week</th>\n",
       "    </tr>\n",
       "  </thead>\n",
       "  <tbody>\n",
       "    <tr>\n",
       "      <th>count</th>\n",
       "      <td>26367.000000</td>\n",
       "      <td>2.637300e+04</td>\n",
       "      <td>26373.000000</td>\n",
       "      <td>26373.000000</td>\n",
       "      <td>26373.000000</td>\n",
       "      <td>26373.000000</td>\n",
       "    </tr>\n",
       "    <tr>\n",
       "      <th>mean</th>\n",
       "      <td>38.551333</td>\n",
       "      <td>1.895904e+05</td>\n",
       "      <td>10.094339</td>\n",
       "      <td>1074.516589</td>\n",
       "      <td>89.205475</td>\n",
       "      <td>40.500171</td>\n",
       "    </tr>\n",
       "    <tr>\n",
       "      <th>std</th>\n",
       "      <td>13.603194</td>\n",
       "      <td>1.055816e+05</td>\n",
       "      <td>2.583780</td>\n",
       "      <td>7365.631223</td>\n",
       "      <td>407.381974</td>\n",
       "      <td>12.385635</td>\n",
       "    </tr>\n",
       "    <tr>\n",
       "      <th>min</th>\n",
       "      <td>17.000000</td>\n",
       "      <td>1.228500e+04</td>\n",
       "      <td>1.000000</td>\n",
       "      <td>0.000000</td>\n",
       "      <td>0.000000</td>\n",
       "      <td>1.000000</td>\n",
       "    </tr>\n",
       "    <tr>\n",
       "      <th>25%</th>\n",
       "      <td>28.000000</td>\n",
       "      <td>1.177890e+05</td>\n",
       "      <td>9.000000</td>\n",
       "      <td>0.000000</td>\n",
       "      <td>0.000000</td>\n",
       "      <td>40.000000</td>\n",
       "    </tr>\n",
       "    <tr>\n",
       "      <th>50%</th>\n",
       "      <td>37.000000</td>\n",
       "      <td>1.782490e+05</td>\n",
       "      <td>10.000000</td>\n",
       "      <td>0.000000</td>\n",
       "      <td>0.000000</td>\n",
       "      <td>40.000000</td>\n",
       "    </tr>\n",
       "    <tr>\n",
       "      <th>75%</th>\n",
       "      <td>47.000000</td>\n",
       "      <td>2.366120e+05</td>\n",
       "      <td>13.000000</td>\n",
       "      <td>0.000000</td>\n",
       "      <td>0.000000</td>\n",
       "      <td>45.000000</td>\n",
       "    </tr>\n",
       "    <tr>\n",
       "      <th>max</th>\n",
       "      <td>90.000000</td>\n",
       "      <td>1.484705e+06</td>\n",
       "      <td>16.000000</td>\n",
       "      <td>99999.000000</td>\n",
       "      <td>4356.000000</td>\n",
       "      <td>99.000000</td>\n",
       "    </tr>\n",
       "  </tbody>\n",
       "</table>\n",
       "</div>"
      ],
      "text/plain": [
       "                age  final-weight  education-num  capital-gain  capital-loos  \\\n",
       "count  26367.000000  2.637300e+04   26373.000000  26373.000000  26373.000000   \n",
       "mean      38.551333  1.895904e+05      10.094339   1074.516589     89.205475   \n",
       "std       13.603194  1.055816e+05       2.583780   7365.631223    407.381974   \n",
       "min       17.000000  1.228500e+04       1.000000      0.000000      0.000000   \n",
       "25%       28.000000  1.177890e+05       9.000000      0.000000      0.000000   \n",
       "50%       37.000000  1.782490e+05      10.000000      0.000000      0.000000   \n",
       "75%       47.000000  2.366120e+05      13.000000      0.000000      0.000000   \n",
       "max       90.000000  1.484705e+06      16.000000  99999.000000   4356.000000   \n",
       "\n",
       "       hour-per-week  \n",
       "count   26373.000000  \n",
       "mean       40.500171  \n",
       "std        12.385635  \n",
       "min         1.000000  \n",
       "25%        40.000000  \n",
       "50%        40.000000  \n",
       "75%        45.000000  \n",
       "max        99.000000  "
      ]
     },
     "execution_count": 27,
     "metadata": {},
     "output_type": "execute_result"
    }
   ],
   "source": [
    "colunas_numericas.describe()"
   ]
  },
  {
   "cell_type": "code",
   "execution_count": 17,
   "id": "ea42f04a",
   "metadata": {
    "ExecuteTime": {
     "end_time": "2023-04-20T15:12:02.487100Z",
     "start_time": "2023-04-20T15:12:01.937169Z"
    }
   },
   "outputs": [
    {
     "data": {
      "text/plain": [
       "<AxesSubplot: xlabel='workclass', ylabel='count'>"
      ]
     },
     "execution_count": 17,
     "metadata": {},
     "output_type": "execute_result"
    },
    {
     "data": {
      "image/png": "[encoded data removed]",
      "text/plain": [
       "<Figure size 1440x720 with 1 Axes>"
      ]
     },
     "metadata": {
      "needs_background": "light"
     },
     "output_type": "display_data"
    }
   ],
   "source": [
    "# análise de dados categóricos\n",
    "\n",
    "plt.figure(figsize=(20, 10))\n",
    "\n",
    "sns.countplot(data=X_train.join(y_train), x='workclass')"
   ]
  },
  {
   "cell_type": "code",
   "execution_count": 18,
   "id": "0017d373",
   "metadata": {
    "ExecuteTime": {
     "end_time": "2023-04-20T15:12:03.307711Z",
     "start_time": "2023-04-20T15:12:02.490710Z"
    }
   },
   "outputs": [
    {
     "data": {
      "text/plain": [
       "<seaborn.axisgrid.FacetGrid at 0x7f3accc5bd30>"
      ]
     },
     "execution_count": 18,
     "metadata": {},
     "output_type": "execute_result"
    },
    {
     "data": {
      "image/png": "[encoded data removed]",
      "text/plain": [
       "<Figure size 864x432 with 1 Axes>"
      ]
     },
     "metadata": {
      "needs_background": "light"
     },
     "output_type": "display_data"
    }
   ],
   "source": [
    "# análise de dados categóricos\n",
    "\n",
    "sns.catplot(data=df, y='education', kind='count',\n",
    "            height=6, aspect=2, orient='h')"
   ]
  },
  {
   "cell_type": "code",
   "execution_count": 19,
   "id": "2dee147b",
   "metadata": {
    "ExecuteTime": {
     "end_time": "2023-04-20T15:12:03.824117Z",
     "start_time": "2023-04-20T15:12:03.311330Z"
    },
    "scrolled": true
   },
   "outputs": [
    {
     "data": {
      "text/plain": [
       "<AxesSubplot: xlabel='relationship', ylabel='count'>"
      ]
     },
     "execution_count": 19,
     "metadata": {},
     "output_type": "execute_result"
    },
    {
     "data": {
      "image/png": "[encoded data removed]",
      "text/plain": [
       "<Figure size 1080x360 with 1 Axes>"
      ]
     },
     "metadata": {
      "needs_background": "light"
     },
     "output_type": "display_data"
    }
   ],
   "source": [
    "# análise de dados categóricos\n",
    "\n",
    "plt.figure(figsize=(15, 5))\n",
    "\n",
    "sns.countplot(data=X_train.join(y_train), x='relationship')"
   ]
  },
  {
   "cell_type": "code",
   "execution_count": 20,
   "id": "98b893cc",
   "metadata": {
    "ExecuteTime": {
     "end_time": "2023-04-20T15:12:04.784055Z",
     "start_time": "2023-04-20T15:12:03.828251Z"
    }
   },
   "outputs": [
    {
     "data": {
      "text/plain": [
       "<seaborn.axisgrid.FacetGrid at 0x7f3acd7adf00>"
      ]
     },
     "execution_count": 20,
     "metadata": {},
     "output_type": "execute_result"
    },
    {
     "data": {
      "image/png": "[encoded data removed]",
      "text/plain": [
       "<Figure size 864x432 with 1 Axes>"
      ]
     },
     "metadata": {
      "needs_background": "light"
     },
     "output_type": "display_data"
    }
   ],
   "source": [
    "# análise de dados categóricos\n",
    "\n",
    "sns.catplot(data=df, y='occupation', kind='count',\n",
    "            height=6, aspect=2, orient='h')"
   ]
  },
  {
   "cell_type": "code",
   "execution_count": 21,
   "id": "4ac9c121",
   "metadata": {
    "ExecuteTime": {
     "end_time": "2023-04-20T15:12:05.179549Z",
     "start_time": "2023-04-20T15:12:04.787914Z"
    }
   },
   "outputs": [
    {
     "data": {
      "text/plain": [
       "<AxesSubplot: xlabel='race', ylabel='count'>"
      ]
     },
     "execution_count": 21,
     "metadata": {},
     "output_type": "execute_result"
    },
    {
     "data": {
      "image/png": "[encoded data removed]",
      "text/plain": [
       "<Figure size 1080x360 with 1 Axes>"
      ]
     },
     "metadata": {
      "needs_background": "light"
     },
     "output_type": "display_data"
    }
   ],
   "source": [
    "# análise de dados categóricos\n",
    "\n",
    "plt.figure(figsize=(15, 5))\n",
    "\n",
    "sns.countplot(data=X_train.join(y_train), x='race')"
   ]
  },
  {
   "cell_type": "code",
   "execution_count": 22,
   "id": "96ae4a3f",
   "metadata": {
    "ExecuteTime": {
     "end_time": "2023-04-20T15:12:05.518653Z",
     "start_time": "2023-04-20T15:12:05.183549Z"
    }
   },
   "outputs": [
    {
     "data": {
      "text/plain": [
       "<AxesSubplot: xlabel='sex', ylabel='count'>"
      ]
     },
     "execution_count": 22,
     "metadata": {},
     "output_type": "execute_result"
    },
    {
     "data": {
      "image/png": "[encoded data removed]",
      "text/plain": [
       "<Figure size 720x360 with 1 Axes>"
      ]
     },
     "metadata": {
      "needs_background": "light"
     },
     "output_type": "display_data"
    }
   ],
   "source": [
    "# análise de dados categóricos\n",
    "\n",
    "plt.figure(figsize=(10, 5))\n",
    "\n",
    "sns.countplot(data=X_train.join(y_train), x='sex')"
   ]
  },
  {
   "cell_type": "code",
   "execution_count": 23,
   "id": "ebbad951",
   "metadata": {
    "ExecuteTime": {
     "end_time": "2023-04-20T15:12:07.013051Z",
     "start_time": "2023-04-20T15:12:05.541124Z"
    }
   },
   "outputs": [
    {
     "data": {
      "text/plain": [
       "<seaborn.axisgrid.FacetGrid at 0x7f3acd83b7f0>"
      ]
     },
     "execution_count": 23,
     "metadata": {},
     "output_type": "execute_result"
    },
    {
     "data": {
      "image/png": "[encoded data removed]",
      "text/plain": [
       "<Figure size 864x432 with 1 Axes>"
      ]
     },
     "metadata": {
      "needs_background": "light"
     },
     "output_type": "display_data"
    }
   ],
   "source": [
    "# análise de dados categóricos\n",
    "\n",
    "sns.catplot(data=df, y='native-country', kind='count',\n",
    "            height=6, aspect=2, orient='h')"
   ]
  },
  {
   "cell_type": "markdown",
   "id": "f3c672a2",
   "metadata": {},
   "source": [
    "# Criação de pipelines"
   ]
  },
  {
   "cell_type": "markdown",
   "id": "df084144",
   "metadata": {},
   "source": [
    "> Importando as bibliotecas necessárias."
   ]
  },
  {
   "cell_type": "code",
   "execution_count": 46,
   "id": "7d2e2ea8",
   "metadata": {
    "ExecuteTime": {
     "end_time": "2023-04-20T23:31:14.416567Z",
     "start_time": "2023-04-20T23:31:14.061550Z"
    }
   },
   "outputs": [],
   "source": [
    "from sklearn.pipeline import Pipeline, make_pipeline\n",
    "from sklearn.preprocessing import LabelEncoder, OrdinalEncoder, OneHotEncoder, MinMaxScaler\n",
    "from sklearn.impute import SimpleImputer\n",
    "from sklearn.compose import ColumnTransformer"
   ]
  },
  {
   "cell_type": "markdown",
   "id": "ef11e94e",
   "metadata": {},
   "source": [
    "> Checando os dados categóricos para o **encoding**."
   ]
  },
  {
   "cell_type": "code",
   "execution_count": 40,
   "id": "4f85a839",
   "metadata": {
    "ExecuteTime": {
     "end_time": "2023-04-20T23:00:25.773734Z",
     "start_time": "2023-04-20T23:00:25.642097Z"
    }
   },
   "outputs": [
    {
     "data": {
      "text/plain": [
       "Index(['workclass', 'education', 'marital-status', 'occupation',\n",
       "       'relationship', 'race', 'sex', 'native-country', 'income'],\n",
       "      dtype='object')"
      ]
     },
     "execution_count": 40,
     "metadata": {},
     "output_type": "execute_result"
    }
   ],
   "source": [
    "colunas_categoricas.columns"
   ]
  },
  {
   "cell_type": "markdown",
   "id": "ea0be5fe",
   "metadata": {},
   "source": [
    "Workclass -> label encoding\n",
    "education -> ordinal encoding\n",
    "marital-status -> dropar\n",
    "occupation -> one hot encoding\n",
    "relationship -> ohe\n",
    "race -> label encoding\n",
    "sex -> label encoding\n",
    "native-country > label encoding\n",
    "TARGET: income -> label encoding"
   ]
  },
  {
   "cell_type": "markdown",
   "id": "e53d45d2",
   "metadata": {},
   "source": [
    "> Checando os dados numéricos para o **rescale**."
   ]
  },
  {
   "cell_type": "code",
   "execution_count": 35,
   "id": "984e9641",
   "metadata": {
    "ExecuteTime": {
     "end_time": "2023-04-20T15:34:25.008816Z",
     "start_time": "2023-04-20T15:34:24.991824Z"
    }
   },
   "outputs": [
    {
     "data": {
      "text/plain": [
       "Index(['age', 'final-weight', 'education-num', 'capital-gain', 'capital-loos',\n",
       "       'hour-per-week'],\n",
       "      dtype='object')"
      ]
     },
     "execution_count": 35,
     "metadata": {},
     "output_type": "execute_result"
    }
   ],
   "source": [
    "colunas_numericas.columns"
   ]
  },
  {
   "cell_type": "markdown",
   "id": "20a60638",
   "metadata": {},
   "source": [
    "age =drona"
   ]
  },
  {
   "cell_type": "code",
   "execution_count": 34,
   "id": "4ca863c0",
   "metadata": {
    "ExecuteTime": {
     "end_time": "2023-04-20T15:34:06.273999Z",
     "start_time": "2023-04-20T15:34:06.193281Z"
    }
   },
   "outputs": [
    {
     "data": {
      "text/html": [
       "<div>\n",
       "<style scoped>\n",
       "    .dataframe tbody tr th:only-of-type {\n",
       "        vertical-align: middle;\n",
       "    }\n",
       "\n",
       "    .dataframe tbody tr th {\n",
       "        vertical-align: top;\n",
       "    }\n",
       "\n",
       "    .dataframe thead th {\n",
       "        text-align: right;\n",
       "    }\n",
       "</style>\n",
       "<table border=\"1\" class=\"dataframe\">\n",
       "  <thead>\n",
       "    <tr style=\"text-align: right;\">\n",
       "      <th></th>\n",
       "      <th>age</th>\n",
       "      <th>final-weight</th>\n",
       "      <th>education-num</th>\n",
       "      <th>capital-gain</th>\n",
       "      <th>capital-loos</th>\n",
       "      <th>hour-per-week</th>\n",
       "    </tr>\n",
       "  </thead>\n",
       "  <tbody>\n",
       "    <tr>\n",
       "      <th>count</th>\n",
       "      <td>26367.000000</td>\n",
       "      <td>2.637300e+04</td>\n",
       "      <td>26373.000000</td>\n",
       "      <td>26373.000000</td>\n",
       "      <td>26373.000000</td>\n",
       "      <td>26373.000000</td>\n",
       "    </tr>\n",
       "    <tr>\n",
       "      <th>mean</th>\n",
       "      <td>38.551333</td>\n",
       "      <td>1.895904e+05</td>\n",
       "      <td>10.094339</td>\n",
       "      <td>1074.516589</td>\n",
       "      <td>89.205475</td>\n",
       "      <td>40.500171</td>\n",
       "    </tr>\n",
       "    <tr>\n",
       "      <th>std</th>\n",
       "      <td>13.603194</td>\n",
       "      <td>1.055816e+05</td>\n",
       "      <td>2.583780</td>\n",
       "      <td>7365.631223</td>\n",
       "      <td>407.381974</td>\n",
       "      <td>12.385635</td>\n",
       "    </tr>\n",
       "    <tr>\n",
       "      <th>min</th>\n",
       "      <td>17.000000</td>\n",
       "      <td>1.228500e+04</td>\n",
       "      <td>1.000000</td>\n",
       "      <td>0.000000</td>\n",
       "      <td>0.000000</td>\n",
       "      <td>1.000000</td>\n",
       "    </tr>\n",
       "    <tr>\n",
       "      <th>25%</th>\n",
       "      <td>28.000000</td>\n",
       "      <td>1.177890e+05</td>\n",
       "      <td>9.000000</td>\n",
       "      <td>0.000000</td>\n",
       "      <td>0.000000</td>\n",
       "      <td>40.000000</td>\n",
       "    </tr>\n",
       "    <tr>\n",
       "      <th>50%</th>\n",
       "      <td>37.000000</td>\n",
       "      <td>1.782490e+05</td>\n",
       "      <td>10.000000</td>\n",
       "      <td>0.000000</td>\n",
       "      <td>0.000000</td>\n",
       "      <td>40.000000</td>\n",
       "    </tr>\n",
       "    <tr>\n",
       "      <th>75%</th>\n",
       "      <td>47.000000</td>\n",
       "      <td>2.366120e+05</td>\n",
       "      <td>13.000000</td>\n",
       "      <td>0.000000</td>\n",
       "      <td>0.000000</td>\n",
       "      <td>45.000000</td>\n",
       "    </tr>\n",
       "    <tr>\n",
       "      <th>max</th>\n",
       "      <td>90.000000</td>\n",
       "      <td>1.484705e+06</td>\n",
       "      <td>16.000000</td>\n",
       "      <td>99999.000000</td>\n",
       "      <td>4356.000000</td>\n",
       "      <td>99.000000</td>\n",
       "    </tr>\n",
       "  </tbody>\n",
       "</table>\n",
       "</div>"
      ],
      "text/plain": [
       "                age  final-weight  education-num  capital-gain  capital-loos  \\\n",
       "count  26367.000000  2.637300e+04   26373.000000  26373.000000  26373.000000   \n",
       "mean      38.551333  1.895904e+05      10.094339   1074.516589     89.205475   \n",
       "std       13.603194  1.055816e+05       2.583780   7365.631223    407.381974   \n",
       "min       17.000000  1.228500e+04       1.000000      0.000000      0.000000   \n",
       "25%       28.000000  1.177890e+05       9.000000      0.000000      0.000000   \n",
       "50%       37.000000  1.782490e+05      10.000000      0.000000      0.000000   \n",
       "75%       47.000000  2.366120e+05      13.000000      0.000000      0.000000   \n",
       "max       90.000000  1.484705e+06      16.000000  99999.000000   4356.000000   \n",
       "\n",
       "       hour-per-week  \n",
       "count   26373.000000  \n",
       "mean       40.500171  \n",
       "std        12.385635  \n",
       "min         1.000000  \n",
       "25%        40.000000  \n",
       "50%        40.000000  \n",
       "75%        45.000000  \n",
       "max        99.000000  "
      ]
     },
     "execution_count": 34,
     "metadata": {},
     "output_type": "execute_result"
    }
   ],
   "source": [
    "colunas_numericas.describe()"
   ]
  },
  {
   "cell_type": "code",
   "execution_count": 57,
   "id": "5d65629a",
   "metadata": {
    "ExecuteTime": {
     "end_time": "2023-04-20T23:37:48.395907Z",
     "start_time": "2023-04-20T23:37:48.351665Z"
    }
   },
   "outputs": [],
   "source": [
    "# transformações para os dados numéricos\n",
    "\n",
    "numeric_transformer = Pipeline(steps=[('scaler', MinMaxScaler())])\n",
    "\n",
    "# transformações para os dados categóricos\n",
    "\n",
    "cat_transformer = Pipeline(steps=[\n",
    "    ('imputer', SimpleImputer(strategy='most_frequent', fill_value='missing')), # substituir nos dados nulos pela mediana\n",
    "     \n",
    "    ('encoding', ColumnTransformer([\n",
    "        ('labelencoder', LabelEncoder(), ['workclass', 'race', 'sex', 'income']),\n",
    "        \n",
    "        ('ordinalencoder', OrdinalEncoder(categories=[['Preschool', '1st-4th', '5th-6th', '7th-8th', '9th', '10th', '11th', '12th', 'HS-grad',\n",
    "     'Some-college', 'Assoc-voc', 'Assoc-acdm', 'Bachelors', 'Masters', 'Prof-school', 'Doctorate']]), ['education']),\n",
    "        \n",
    "        ('onehotencoder', OneHotEncoder(sparse=False), [\n",
    "         'occupation', 'relationship', 'native-country']), \n",
    "    ], remainder='drop'))\n",
    "])"
   ]
  }
 ],
 "metadata": {
  "kernelspec": {
   "display_name": "Python 3 (ipykernel)",
   "language": "python",
   "name": "python3"
  },
  "language_info": {
   "codemirror_mode": {
    "name": "ipython",
    "version": 3
   },
   "file_extension": ".py",
   "mimetype": "text/x-python",
   "name": "python",
   "nbconvert_exporter": "python",
   "pygments_lexer": "ipython3",
   "version": "3.10.6"
  },
  "varInspector": {
   "cols": {
    "lenName": 16,
    "lenType": 16,
    "lenVar": 40
   },
   "kernels_config": {
    "python": {
     "delete_cmd_postfix": "",
     "delete_cmd_prefix": "del ",
     "library": "var_list.py",
     "varRefreshCmd": "print(var_dic_list())"
    },
    "r": {
     "delete_cmd_postfix": ") ",
     "delete_cmd_prefix": "rm(",
     "library": "var_list.r",
     "varRefreshCmd": "cat(var_dic_list()) "
    }
   },
   "types_to_exclude": [
    "module",
    "function",
    "builtin_function_or_method",
    "instance",
    "_Feature"
   ],
   "window_display": false
  }
 },
 "nbformat": 4,
 "nbformat_minor": 5
}
