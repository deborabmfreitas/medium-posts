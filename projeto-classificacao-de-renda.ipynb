{
 "cells": [
  {
   "cell_type": "markdown",
   "id": "b7805d79",
   "metadata": {
    "heading_collapsed": true
   },
   "source": [
    "# 1. Carregando os dados"
   ]
  },
  {
   "cell_type": "code",
   "execution_count": 1,
   "id": "d6c5422f",
   "metadata": {
    "ExecuteTime": {
     "end_time": "2023-04-22T03:13:42.590415Z",
     "start_time": "2023-04-22T03:13:41.636145Z"
    },
    "hidden": true
   },
   "outputs": [],
   "source": [
    "import pandas as pd\n",
    "import numpy as np"
   ]
  },
  {
   "cell_type": "code",
   "execution_count": 2,
   "id": "88f68c5f",
   "metadata": {
    "ExecuteTime": {
     "end_time": "2023-04-22T03:13:42.614363Z",
     "start_time": "2023-04-22T03:13:42.595410Z"
    },
    "hidden": true
   },
   "outputs": [],
   "source": [
    "data = pd.read_csv('data/amostra_census.csv',index_col=0)"
   ]
  },
  {
   "cell_type": "code",
   "execution_count": 3,
   "id": "ffe465ab",
   "metadata": {
    "ExecuteTime": {
     "end_time": "2023-04-22T03:13:42.691437Z",
     "start_time": "2023-04-22T03:13:42.618860Z"
    },
    "hidden": true
   },
   "outputs": [
    {
     "data": {
      "text/html": [
       "<div>\n",
       "<style scoped>\n",
       "    .dataframe tbody tr th:only-of-type {\n",
       "        vertical-align: middle;\n",
       "    }\n",
       "\n",
       "    .dataframe tbody tr th {\n",
       "        vertical-align: top;\n",
       "    }\n",
       "\n",
       "    .dataframe thead th {\n",
       "        text-align: right;\n",
       "    }\n",
       "</style>\n",
       "<table border=\"1\" class=\"dataframe\">\n",
       "  <thead>\n",
       "    <tr style=\"text-align: right;\">\n",
       "      <th></th>\n",
       "      <th>age</th>\n",
       "      <th>education-num</th>\n",
       "      <th>relationship</th>\n",
       "      <th>race</th>\n",
       "      <th>sex</th>\n",
       "      <th>hour-per-week</th>\n",
       "      <th>income</th>\n",
       "    </tr>\n",
       "  </thead>\n",
       "  <tbody>\n",
       "    <tr>\n",
       "      <th>8521</th>\n",
       "      <td>61.0</td>\n",
       "      <td>6</td>\n",
       "      <td>Not-in-family</td>\n",
       "      <td>Black</td>\n",
       "      <td>Female</td>\n",
       "      <td>24</td>\n",
       "      <td>&lt;=50K</td>\n",
       "    </tr>\n",
       "    <tr>\n",
       "      <th>10390</th>\n",
       "      <td>64.0</td>\n",
       "      <td>9</td>\n",
       "      <td>Husband</td>\n",
       "      <td>White</td>\n",
       "      <td>Male</td>\n",
       "      <td>40</td>\n",
       "      <td>&lt;=50K</td>\n",
       "    </tr>\n",
       "    <tr>\n",
       "      <th>15854</th>\n",
       "      <td>22.0</td>\n",
       "      <td>10</td>\n",
       "      <td>Own-child</td>\n",
       "      <td>White</td>\n",
       "      <td>Male</td>\n",
       "      <td>98</td>\n",
       "      <td>&lt;=50K</td>\n",
       "    </tr>\n",
       "    <tr>\n",
       "      <th>19214</th>\n",
       "      <td>41.0</td>\n",
       "      <td>13</td>\n",
       "      <td>Husband</td>\n",
       "      <td>White</td>\n",
       "      <td>Male</td>\n",
       "      <td>40</td>\n",
       "      <td>&gt;50K</td>\n",
       "    </tr>\n",
       "    <tr>\n",
       "      <th>1500</th>\n",
       "      <td>37.0</td>\n",
       "      <td>13</td>\n",
       "      <td>Husband</td>\n",
       "      <td>White</td>\n",
       "      <td>Male</td>\n",
       "      <td>80</td>\n",
       "      <td>&gt;50K</td>\n",
       "    </tr>\n",
       "    <tr>\n",
       "      <th>...</th>\n",
       "      <td>...</td>\n",
       "      <td>...</td>\n",
       "      <td>...</td>\n",
       "      <td>...</td>\n",
       "      <td>...</td>\n",
       "      <td>...</td>\n",
       "      <td>...</td>\n",
       "    </tr>\n",
       "    <tr>\n",
       "      <th>31502</th>\n",
       "      <td>42.0</td>\n",
       "      <td>11</td>\n",
       "      <td>Husband</td>\n",
       "      <td>White</td>\n",
       "      <td>Male</td>\n",
       "      <td>80</td>\n",
       "      <td>&gt;50K</td>\n",
       "    </tr>\n",
       "    <tr>\n",
       "      <th>4994</th>\n",
       "      <td>39.0</td>\n",
       "      <td>13</td>\n",
       "      <td>Husband</td>\n",
       "      <td>White</td>\n",
       "      <td>Male</td>\n",
       "      <td>60</td>\n",
       "      <td>&lt;=50K</td>\n",
       "    </tr>\n",
       "    <tr>\n",
       "      <th>26202</th>\n",
       "      <td>46.0</td>\n",
       "      <td>13</td>\n",
       "      <td>Husband</td>\n",
       "      <td>White</td>\n",
       "      <td>Male</td>\n",
       "      <td>60</td>\n",
       "      <td>&gt;50K</td>\n",
       "    </tr>\n",
       "    <tr>\n",
       "      <th>12807</th>\n",
       "      <td>39.0</td>\n",
       "      <td>13</td>\n",
       "      <td>Not-in-family</td>\n",
       "      <td>White</td>\n",
       "      <td>Male</td>\n",
       "      <td>40</td>\n",
       "      <td>&lt;=50K</td>\n",
       "    </tr>\n",
       "    <tr>\n",
       "      <th>20998</th>\n",
       "      <td>38.0</td>\n",
       "      <td>9</td>\n",
       "      <td>Husband</td>\n",
       "      <td>White</td>\n",
       "      <td>Male</td>\n",
       "      <td>20</td>\n",
       "      <td>&lt;=50K</td>\n",
       "    </tr>\n",
       "  </tbody>\n",
       "</table>\n",
       "<p>1000 rows × 7 columns</p>\n",
       "</div>"
      ],
      "text/plain": [
       "        age  education-num    relationship    race      sex  hour-per-week  \\\n",
       "8521   61.0              6   Not-in-family   Black   Female             24   \n",
       "10390  64.0              9         Husband   White     Male             40   \n",
       "15854  22.0             10       Own-child   White     Male             98   \n",
       "19214  41.0             13         Husband   White     Male             40   \n",
       "1500   37.0             13         Husband   White     Male             80   \n",
       "...     ...            ...             ...     ...      ...            ...   \n",
       "31502  42.0             11         Husband   White     Male             80   \n",
       "4994   39.0             13         Husband   White     Male             60   \n",
       "26202  46.0             13         Husband   White     Male             60   \n",
       "12807  39.0             13   Not-in-family   White     Male             40   \n",
       "20998  38.0              9         Husband   White     Male             20   \n",
       "\n",
       "       income  \n",
       "8521    <=50K  \n",
       "10390   <=50K  \n",
       "15854   <=50K  \n",
       "19214    >50K  \n",
       "1500     >50K  \n",
       "...       ...  \n",
       "31502    >50K  \n",
       "4994    <=50K  \n",
       "26202    >50K  \n",
       "12807   <=50K  \n",
       "20998   <=50K  \n",
       "\n",
       "[1000 rows x 7 columns]"
      ]
     },
     "execution_count": 3,
     "metadata": {},
     "output_type": "execute_result"
    }
   ],
   "source": [
    "data"
   ]
  },
  {
   "cell_type": "markdown",
   "id": "67950d24",
   "metadata": {
    "heading_collapsed": true
   },
   "source": [
    "# 2. Split dos dados de treino e de teste"
   ]
  },
  {
   "cell_type": "code",
   "execution_count": 4,
   "id": "9534f216",
   "metadata": {
    "ExecuteTime": {
     "end_time": "2023-04-22T03:13:43.874673Z",
     "start_time": "2023-04-22T03:13:42.698114Z"
    },
    "hidden": true
   },
   "outputs": [],
   "source": [
    "from sklearn.model_selection import train_test_split"
   ]
  },
  {
   "cell_type": "code",
   "execution_count": 5,
   "id": "5541e38f",
   "metadata": {
    "ExecuteTime": {
     "end_time": "2023-04-22T03:13:43.886802Z",
     "start_time": "2023-04-22T03:13:43.879080Z"
    },
    "hidden": true
   },
   "outputs": [],
   "source": [
    "df = data.copy()"
   ]
  },
  {
   "cell_type": "code",
   "execution_count": 6,
   "id": "dd0c4c72",
   "metadata": {
    "ExecuteTime": {
     "end_time": "2023-04-22T03:13:43.903984Z",
     "start_time": "2023-04-22T03:13:43.894965Z"
    },
    "hidden": true
   },
   "outputs": [],
   "source": [
    "# separando features de targets\n",
    "\n",
    "X = df.drop('income', axis=1)\n",
    "y = df['income']"
   ]
  },
  {
   "cell_type": "code",
   "execution_count": 7,
   "id": "1f869df4",
   "metadata": {
    "ExecuteTime": {
     "end_time": "2023-04-22T03:13:43.925112Z",
     "start_time": "2023-04-22T03:13:43.909471Z"
    },
    "hidden": true
   },
   "outputs": [],
   "source": [
    "# separando os dados em treino e teste\n",
    "\n",
    "X_train, X_test, y_train, y_test = train_test_split(X, y, test_size=0.1, stratify=y, random_state=42)"
   ]
  },
  {
   "cell_type": "code",
   "execution_count": 8,
   "id": "a2ea4c21",
   "metadata": {
    "ExecuteTime": {
     "end_time": "2023-04-22T03:13:43.944026Z",
     "start_time": "2023-04-22T03:13:43.933079Z"
    },
    "hidden": true
   },
   "outputs": [
    {
     "name": "stdout",
     "output_type": "stream",
     "text": [
      "Dados de treino: 900\n",
      "Dados de teste: 100\n"
     ]
    }
   ],
   "source": [
    "# instâncias por split\n",
    "\n",
    "print(f'Dados de treino: {X_train.shape[0]}')\n",
    "print(f'Dados de teste: {X_test.shape[0]}')"
   ]
  },
  {
   "cell_type": "code",
   "execution_count": 9,
   "id": "19e7b554",
   "metadata": {
    "ExecuteTime": {
     "end_time": "2023-04-22T03:13:44.009238Z",
     "start_time": "2023-04-22T03:13:43.951428Z"
    },
    "hidden": true
   },
   "outputs": [
    {
     "data": {
      "text/html": [
       "<div>\n",
       "<style scoped>\n",
       "    .dataframe tbody tr th:only-of-type {\n",
       "        vertical-align: middle;\n",
       "    }\n",
       "\n",
       "    .dataframe tbody tr th {\n",
       "        vertical-align: top;\n",
       "    }\n",
       "\n",
       "    .dataframe thead th {\n",
       "        text-align: right;\n",
       "    }\n",
       "</style>\n",
       "<table border=\"1\" class=\"dataframe\">\n",
       "  <thead>\n",
       "    <tr style=\"text-align: right;\">\n",
       "      <th></th>\n",
       "      <th>age</th>\n",
       "      <th>education-num</th>\n",
       "      <th>relationship</th>\n",
       "      <th>race</th>\n",
       "      <th>sex</th>\n",
       "      <th>hour-per-week</th>\n",
       "    </tr>\n",
       "  </thead>\n",
       "  <tbody>\n",
       "    <tr>\n",
       "      <th>13884</th>\n",
       "      <td>70.0</td>\n",
       "      <td>9</td>\n",
       "      <td>Husband</td>\n",
       "      <td>White</td>\n",
       "      <td>Male</td>\n",
       "      <td>60</td>\n",
       "    </tr>\n",
       "    <tr>\n",
       "      <th>20463</th>\n",
       "      <td>85.0</td>\n",
       "      <td>9</td>\n",
       "      <td>Not-in-family</td>\n",
       "      <td>White</td>\n",
       "      <td>Female</td>\n",
       "      <td>50</td>\n",
       "    </tr>\n",
       "    <tr>\n",
       "      <th>20479</th>\n",
       "      <td>64.0</td>\n",
       "      <td>11</td>\n",
       "      <td>Husband</td>\n",
       "      <td>White</td>\n",
       "      <td>Male</td>\n",
       "      <td>55</td>\n",
       "    </tr>\n",
       "    <tr>\n",
       "      <th>14943</th>\n",
       "      <td>31.0</td>\n",
       "      <td>9</td>\n",
       "      <td>Husband</td>\n",
       "      <td>White</td>\n",
       "      <td>Male</td>\n",
       "      <td>65</td>\n",
       "    </tr>\n",
       "    <tr>\n",
       "      <th>24376</th>\n",
       "      <td>22.0</td>\n",
       "      <td>13</td>\n",
       "      <td>Not-in-family</td>\n",
       "      <td>Amer-Indian-Eskimo</td>\n",
       "      <td>Female</td>\n",
       "      <td>40</td>\n",
       "    </tr>\n",
       "    <tr>\n",
       "      <th>...</th>\n",
       "      <td>...</td>\n",
       "      <td>...</td>\n",
       "      <td>...</td>\n",
       "      <td>...</td>\n",
       "      <td>...</td>\n",
       "      <td>...</td>\n",
       "    </tr>\n",
       "    <tr>\n",
       "      <th>31434</th>\n",
       "      <td>39.0</td>\n",
       "      <td>14</td>\n",
       "      <td>Husband</td>\n",
       "      <td>White</td>\n",
       "      <td>Male</td>\n",
       "      <td>45</td>\n",
       "    </tr>\n",
       "    <tr>\n",
       "      <th>12250</th>\n",
       "      <td>51.0</td>\n",
       "      <td>9</td>\n",
       "      <td>Husband</td>\n",
       "      <td>White</td>\n",
       "      <td>Male</td>\n",
       "      <td>40</td>\n",
       "    </tr>\n",
       "    <tr>\n",
       "      <th>535</th>\n",
       "      <td>39.0</td>\n",
       "      <td>8</td>\n",
       "      <td>Husband</td>\n",
       "      <td>White</td>\n",
       "      <td>Male</td>\n",
       "      <td>50</td>\n",
       "    </tr>\n",
       "    <tr>\n",
       "      <th>17772</th>\n",
       "      <td>46.0</td>\n",
       "      <td>9</td>\n",
       "      <td>Husband</td>\n",
       "      <td>White</td>\n",
       "      <td>Male</td>\n",
       "      <td>40</td>\n",
       "    </tr>\n",
       "    <tr>\n",
       "      <th>6093</th>\n",
       "      <td>31.0</td>\n",
       "      <td>10</td>\n",
       "      <td>Not-in-family</td>\n",
       "      <td>White</td>\n",
       "      <td>Male</td>\n",
       "      <td>45</td>\n",
       "    </tr>\n",
       "  </tbody>\n",
       "</table>\n",
       "<p>900 rows × 6 columns</p>\n",
       "</div>"
      ],
      "text/plain": [
       "        age  education-num    relationship                 race      sex  \\\n",
       "13884  70.0              9         Husband                White     Male   \n",
       "20463  85.0              9   Not-in-family                White   Female   \n",
       "20479  64.0             11         Husband                White     Male   \n",
       "14943  31.0              9         Husband                White     Male   \n",
       "24376  22.0             13   Not-in-family   Amer-Indian-Eskimo   Female   \n",
       "...     ...            ...             ...                  ...      ...   \n",
       "31434  39.0             14         Husband                White     Male   \n",
       "12250  51.0              9         Husband                White     Male   \n",
       "535    39.0              8         Husband                White     Male   \n",
       "17772  46.0              9         Husband                White     Male   \n",
       "6093   31.0             10   Not-in-family                White     Male   \n",
       "\n",
       "       hour-per-week  \n",
       "13884             60  \n",
       "20463             50  \n",
       "20479             55  \n",
       "14943             65  \n",
       "24376             40  \n",
       "...              ...  \n",
       "31434             45  \n",
       "12250             40  \n",
       "535               50  \n",
       "17772             40  \n",
       "6093              45  \n",
       "\n",
       "[900 rows x 6 columns]"
      ]
     },
     "metadata": {},
     "output_type": "display_data"
    },
    {
     "data": {
      "text/html": [
       "<div>\n",
       "<style scoped>\n",
       "    .dataframe tbody tr th:only-of-type {\n",
       "        vertical-align: middle;\n",
       "    }\n",
       "\n",
       "    .dataframe tbody tr th {\n",
       "        vertical-align: top;\n",
       "    }\n",
       "\n",
       "    .dataframe thead th {\n",
       "        text-align: right;\n",
       "    }\n",
       "</style>\n",
       "<table border=\"1\" class=\"dataframe\">\n",
       "  <thead>\n",
       "    <tr style=\"text-align: right;\">\n",
       "      <th></th>\n",
       "      <th>age</th>\n",
       "      <th>education-num</th>\n",
       "      <th>relationship</th>\n",
       "      <th>race</th>\n",
       "      <th>sex</th>\n",
       "      <th>hour-per-week</th>\n",
       "    </tr>\n",
       "  </thead>\n",
       "  <tbody>\n",
       "    <tr>\n",
       "      <th>19907</th>\n",
       "      <td>23.0</td>\n",
       "      <td>9</td>\n",
       "      <td>Own-child</td>\n",
       "      <td>White</td>\n",
       "      <td>Male</td>\n",
       "      <td>40</td>\n",
       "    </tr>\n",
       "    <tr>\n",
       "      <th>23139</th>\n",
       "      <td>22.0</td>\n",
       "      <td>9</td>\n",
       "      <td>Not-in-family</td>\n",
       "      <td>White</td>\n",
       "      <td>Male</td>\n",
       "      <td>27</td>\n",
       "    </tr>\n",
       "    <tr>\n",
       "      <th>10390</th>\n",
       "      <td>64.0</td>\n",
       "      <td>9</td>\n",
       "      <td>Husband</td>\n",
       "      <td>White</td>\n",
       "      <td>Male</td>\n",
       "      <td>40</td>\n",
       "    </tr>\n",
       "    <tr>\n",
       "      <th>16599</th>\n",
       "      <td>25.0</td>\n",
       "      <td>5</td>\n",
       "      <td>Unmarried</td>\n",
       "      <td>White</td>\n",
       "      <td>Male</td>\n",
       "      <td>40</td>\n",
       "    </tr>\n",
       "    <tr>\n",
       "      <th>20679</th>\n",
       "      <td>37.0</td>\n",
       "      <td>9</td>\n",
       "      <td>Husband</td>\n",
       "      <td>White</td>\n",
       "      <td>Male</td>\n",
       "      <td>40</td>\n",
       "    </tr>\n",
       "    <tr>\n",
       "      <th>...</th>\n",
       "      <td>...</td>\n",
       "      <td>...</td>\n",
       "      <td>...</td>\n",
       "      <td>...</td>\n",
       "      <td>...</td>\n",
       "      <td>...</td>\n",
       "    </tr>\n",
       "    <tr>\n",
       "      <th>10070</th>\n",
       "      <td>28.0</td>\n",
       "      <td>9</td>\n",
       "      <td>Wife</td>\n",
       "      <td>White</td>\n",
       "      <td>Female</td>\n",
       "      <td>40</td>\n",
       "    </tr>\n",
       "    <tr>\n",
       "      <th>10764</th>\n",
       "      <td>20.0</td>\n",
       "      <td>10</td>\n",
       "      <td>Own-child</td>\n",
       "      <td>White</td>\n",
       "      <td>Female</td>\n",
       "      <td>20</td>\n",
       "    </tr>\n",
       "    <tr>\n",
       "      <th>9264</th>\n",
       "      <td>17.0</td>\n",
       "      <td>8</td>\n",
       "      <td>Own-child</td>\n",
       "      <td>White</td>\n",
       "      <td>Male</td>\n",
       "      <td>12</td>\n",
       "    </tr>\n",
       "    <tr>\n",
       "      <th>11390</th>\n",
       "      <td>30.0</td>\n",
       "      <td>10</td>\n",
       "      <td>Unmarried</td>\n",
       "      <td>White</td>\n",
       "      <td>Female</td>\n",
       "      <td>30</td>\n",
       "    </tr>\n",
       "    <tr>\n",
       "      <th>18110</th>\n",
       "      <td>26.0</td>\n",
       "      <td>13</td>\n",
       "      <td>Not-in-family</td>\n",
       "      <td>Black</td>\n",
       "      <td>Female</td>\n",
       "      <td>40</td>\n",
       "    </tr>\n",
       "  </tbody>\n",
       "</table>\n",
       "<p>100 rows × 6 columns</p>\n",
       "</div>"
      ],
      "text/plain": [
       "        age  education-num    relationship    race      sex  hour-per-week\n",
       "19907  23.0              9       Own-child   White     Male             40\n",
       "23139  22.0              9   Not-in-family   White     Male             27\n",
       "10390  64.0              9         Husband   White     Male             40\n",
       "16599  25.0              5       Unmarried   White     Male             40\n",
       "20679  37.0              9         Husband   White     Male             40\n",
       "...     ...            ...             ...     ...      ...            ...\n",
       "10070  28.0              9            Wife   White   Female             40\n",
       "10764  20.0             10       Own-child   White   Female             20\n",
       "9264   17.0              8       Own-child   White     Male             12\n",
       "11390  30.0             10       Unmarried   White   Female             30\n",
       "18110  26.0             13   Not-in-family   Black   Female             40\n",
       "\n",
       "[100 rows x 6 columns]"
      ]
     },
     "metadata": {},
     "output_type": "display_data"
    }
   ],
   "source": [
    "display(X_train)\n",
    "display(X_test)"
   ]
  },
  {
   "cell_type": "markdown",
   "id": "39fc9a1c",
   "metadata": {
    "heading_collapsed": true
   },
   "source": [
    "# 3. Explorando os dados"
   ]
  },
  {
   "cell_type": "code",
   "execution_count": 10,
   "id": "49d22c36",
   "metadata": {
    "ExecuteTime": {
     "end_time": "2023-04-22T03:13:44.803675Z",
     "start_time": "2023-04-22T03:13:44.025452Z"
    },
    "hidden": true
   },
   "outputs": [],
   "source": [
    "import seaborn as sns\n",
    "import matplotlib.pyplot as plt"
   ]
  },
  {
   "cell_type": "code",
   "execution_count": 11,
   "id": "5d9372e1",
   "metadata": {
    "ExecuteTime": {
     "end_time": "2023-04-22T03:13:44.828101Z",
     "start_time": "2023-04-22T03:13:44.808627Z"
    },
    "hidden": true
   },
   "outputs": [
    {
     "name": "stdout",
     "output_type": "stream",
     "text": [
      "<class 'pandas.core.frame.DataFrame'>\n",
      "Int64Index: 1000 entries, 8521 to 20998\n",
      "Data columns (total 7 columns):\n",
      " #   Column         Non-Null Count  Dtype  \n",
      "---  ------         --------------  -----  \n",
      " 0   age            992 non-null    float64\n",
      " 1   education-num  1000 non-null   int64  \n",
      " 2   relationship   1000 non-null   object \n",
      " 3   race           1000 non-null   object \n",
      " 4   sex            1000 non-null   object \n",
      " 5   hour-per-week  1000 non-null   int64  \n",
      " 6   income         1000 non-null   object \n",
      "dtypes: float64(1), int64(2), object(4)\n",
      "memory usage: 62.5+ KB\n"
     ]
    }
   ],
   "source": [
    "df.info()"
   ]
  },
  {
   "cell_type": "code",
   "execution_count": 12,
   "id": "b0e8d8d0",
   "metadata": {
    "ExecuteTime": {
     "end_time": "2023-04-22T03:13:44.858567Z",
     "start_time": "2023-04-22T03:13:44.837159Z"
    },
    "hidden": true
   },
   "outputs": [
    {
     "data": {
      "text/plain": [
       "age              8\n",
       "education-num    0\n",
       "relationship     0\n",
       "race             0\n",
       "sex              0\n",
       "hour-per-week    0\n",
       "income           0\n",
       "dtype: int64"
      ]
     },
     "execution_count": 12,
     "metadata": {},
     "output_type": "execute_result"
    }
   ],
   "source": [
    "# checando dados nulos\n",
    "\n",
    "df.isna().sum()"
   ]
  },
  {
   "cell_type": "code",
   "execution_count": 13,
   "id": "ade0cc3e",
   "metadata": {
    "ExecuteTime": {
     "end_time": "2023-04-22T03:13:44.869874Z",
     "start_time": "2023-04-22T03:13:44.865122Z"
    },
    "hidden": true
   },
   "outputs": [],
   "source": [
    "sns.set_style('whitegrid')"
   ]
  },
  {
   "cell_type": "code",
   "execution_count": 14,
   "id": "4a846963",
   "metadata": {
    "ExecuteTime": {
     "end_time": "2023-04-22T03:13:45.235925Z",
     "start_time": "2023-04-22T03:13:44.874068Z"
    },
    "hidden": true
   },
   "outputs": [
    {
     "data": {
      "text/plain": [
       "<AxesSubplot: xlabel='income', ylabel='count'>"
      ]
     },
     "execution_count": 14,
     "metadata": {},
     "output_type": "execute_result"
    },
    {
     "data": {
      "image/png": "[encoded data removed]",
      "text/plain": [
       "<Figure size 720x360 with 1 Axes>"
      ]
     },
     "metadata": {
      "needs_background": "light"
     },
     "output_type": "display_data"
    }
   ],
   "source": [
    "plt.figure(figsize=(10, 5))\n",
    "\n",
    "sns.countplot(data=X_train.join(y_train), x='income', palette=['r', 'g'])"
   ]
  },
  {
   "cell_type": "code",
   "execution_count": 15,
   "id": "e64a2dda",
   "metadata": {
    "ExecuteTime": {
     "end_time": "2023-04-22T03:13:45.260937Z",
     "start_time": "2023-04-22T03:13:45.243226Z"
    },
    "hidden": true
   },
   "outputs": [
    {
     "data": {
      "text/plain": [
       " <=50K    0.751111\n",
       " >50K     0.248889\n",
       "Name: income, dtype: float64"
      ]
     },
     "execution_count": 15,
     "metadata": {},
     "output_type": "execute_result"
    }
   ],
   "source": [
    "# checando a porcentagem dos dados\n",
    "\n",
    "y_train.value_counts(normalize=True)"
   ]
  },
  {
   "cell_type": "code",
   "execution_count": 16,
   "id": "d6eaad77",
   "metadata": {
    "ExecuteTime": {
     "end_time": "2023-04-22T03:13:45.290268Z",
     "start_time": "2023-04-22T03:13:45.264654Z"
    },
    "hidden": true
   },
   "outputs": [],
   "source": [
    "# separando colunas com dados numéricos\n",
    "\n",
    "colunas_numericas = X_train.join(\n",
    "    y_train).select_dtypes(include=['int64', 'float64'])\n",
    "\n",
    "# separando colunas com dados categóricos\n",
    "\n",
    "colunas_categoricas = X_train.join(\n",
    "    y_train).select_dtypes(exclude=['int64', 'float64'])"
   ]
  },
  {
   "cell_type": "code",
   "execution_count": 17,
   "id": "0017d373",
   "metadata": {
    "ExecuteTime": {
     "end_time": "2023-04-22T03:13:46.112527Z",
     "start_time": "2023-04-22T03:13:45.294558Z"
    },
    "hidden": true
   },
   "outputs": [
    {
     "data": {
      "text/plain": [
       "<seaborn.axisgrid.FacetGrid at 0x7fba4ec916f0>"
      ]
     },
     "execution_count": 17,
     "metadata": {},
     "output_type": "execute_result"
    },
    {
     "data": {
      "image/png": "[encoded data removed]",
      "text/plain": [
       "<Figure size 864x432 with 1 Axes>"
      ]
     },
     "metadata": {
      "needs_background": "light"
     },
     "output_type": "display_data"
    }
   ],
   "source": [
    "# análise de dados categóricos\n",
    "\n",
    "sns.catplot(data=df, y='education-num', kind='count',\n",
    "            height=6, aspect=2, orient='h')"
   ]
  },
  {
   "cell_type": "code",
   "execution_count": 18,
   "id": "2dee147b",
   "metadata": {
    "ExecuteTime": {
     "end_time": "2023-04-22T03:13:46.616705Z",
     "start_time": "2023-04-22T03:13:46.120747Z"
    },
    "hidden": true,
    "scrolled": true
   },
   "outputs": [
    {
     "data": {
      "text/plain": [
       "<AxesSubplot: xlabel='relationship', ylabel='count'>"
      ]
     },
     "execution_count": 18,
     "metadata": {},
     "output_type": "execute_result"
    },
    {
     "data": {
      "image/png": "[encoded data removed]",
      "text/plain": [
       "<Figure size 1080x360 with 1 Axes>"
      ]
     },
     "metadata": {
      "needs_background": "light"
     },
     "output_type": "display_data"
    }
   ],
   "source": [
    "# análise de dados categóricos\n",
    "\n",
    "plt.figure(figsize=(15, 5))\n",
    "\n",
    "sns.countplot(data=X_train.join(y_train), x='relationship')"
   ]
  },
  {
   "cell_type": "code",
   "execution_count": 19,
   "id": "4ac9c121",
   "metadata": {
    "ExecuteTime": {
     "end_time": "2023-04-22T03:13:47.123047Z",
     "start_time": "2023-04-22T03:13:46.622032Z"
    },
    "hidden": true
   },
   "outputs": [
    {
     "data": {
      "text/plain": [
       "<AxesSubplot: xlabel='race', ylabel='count'>"
      ]
     },
     "execution_count": 19,
     "metadata": {},
     "output_type": "execute_result"
    },
    {
     "data": {
      "image/png": "[encoded data removed]",
      "text/plain": [
       "<Figure size 1080x360 with 1 Axes>"
      ]
     },
     "metadata": {
      "needs_background": "light"
     },
     "output_type": "display_data"
    }
   ],
   "source": [
    "# análise de dados categóricos\n",
    "\n",
    "plt.figure(figsize=(15, 5))\n",
    "\n",
    "sns.countplot(data=X_train.join(y_train), x='race')"
   ]
  },
  {
   "cell_type": "code",
   "execution_count": 20,
   "id": "96ae4a3f",
   "metadata": {
    "ExecuteTime": {
     "end_time": "2023-04-22T03:13:47.507514Z",
     "start_time": "2023-04-22T03:13:47.128755Z"
    },
    "hidden": true
   },
   "outputs": [
    {
     "data": {
      "text/plain": [
       "<AxesSubplot: xlabel='sex', ylabel='count'>"
      ]
     },
     "execution_count": 20,
     "metadata": {},
     "output_type": "execute_result"
    },
    {
     "data": {
      "image/png": "[encoded data removed]",
      "text/plain": [
       "<Figure size 720x360 with 1 Axes>"
      ]
     },
     "metadata": {
      "needs_background": "light"
     },
     "output_type": "display_data"
    }
   ],
   "source": [
    "# análise de dados categóricos\n",
    "\n",
    "plt.figure(figsize=(10, 5))\n",
    "\n",
    "sns.countplot(data=X_train.join(y_train), x='sex')"
   ]
  },
  {
   "cell_type": "markdown",
   "id": "f3c672a2",
   "metadata": {
    "heading_collapsed": true
   },
   "source": [
    "# 4. Criação das pipelines"
   ]
  },
  {
   "cell_type": "markdown",
   "id": "df084144",
   "metadata": {
    "hidden": true
   },
   "source": [
    "> Importando as bibliotecas necessárias."
   ]
  },
  {
   "cell_type": "code",
   "execution_count": 21,
   "id": "7d2e2ea8",
   "metadata": {
    "ExecuteTime": {
     "end_time": "2023-04-22T03:13:47.602000Z",
     "start_time": "2023-04-22T03:13:47.519883Z"
    },
    "hidden": true
   },
   "outputs": [],
   "source": [
    "from sklearn.pipeline import Pipeline\n",
    "from sklearn.preprocessing import LabelEncoder, OneHotEncoder, MinMaxScaler\n",
    "from sklearn.impute import SimpleImputer\n",
    "from sklearn.compose import ColumnTransformer"
   ]
  },
  {
   "cell_type": "markdown",
   "id": "ef11e94e",
   "metadata": {
    "hidden": true
   },
   "source": [
    "> Checando os dados categóricos para o **encoding**."
   ]
  },
  {
   "cell_type": "code",
   "execution_count": 22,
   "id": "4f85a839",
   "metadata": {
    "ExecuteTime": {
     "end_time": "2023-04-22T03:13:47.626141Z",
     "start_time": "2023-04-22T03:13:47.611131Z"
    },
    "hidden": true
   },
   "outputs": [
    {
     "data": {
      "text/plain": [
       "Index(['relationship', 'race', 'sex', 'income'], dtype='object')"
      ]
     },
     "execution_count": 22,
     "metadata": {},
     "output_type": "execute_result"
    }
   ],
   "source": [
    "colunas_categoricas.columns"
   ]
  },
  {
   "cell_type": "markdown",
   "id": "e53d45d2",
   "metadata": {
    "hidden": true
   },
   "source": [
    "> Checando os dados numéricos para o **rescale**."
   ]
  },
  {
   "cell_type": "code",
   "execution_count": 23,
   "id": "9f439318",
   "metadata": {
    "ExecuteTime": {
     "end_time": "2023-04-22T03:13:47.644072Z",
     "start_time": "2023-04-22T03:13:47.630170Z"
    },
    "hidden": true
   },
   "outputs": [
    {
     "data": {
      "text/plain": [
       "Index(['age', 'education-num', 'hour-per-week'], dtype='object')"
      ]
     },
     "execution_count": 23,
     "metadata": {},
     "output_type": "execute_result"
    }
   ],
   "source": [
    "colunas_numericas.columns"
   ]
  },
  {
   "cell_type": "markdown",
   "id": "4330f737",
   "metadata": {
    "hidden": true
   },
   "source": [
    "## Pipeline - Transformação"
   ]
  },
  {
   "cell_type": "code",
   "execution_count": 24,
   "id": "1143c8ce",
   "metadata": {
    "ExecuteTime": {
     "end_time": "2023-04-22T03:13:47.659891Z",
     "start_time": "2023-04-22T03:13:47.647825Z"
    },
    "hidden": true,
    "scrolled": false
   },
   "outputs": [],
   "source": [
    "sim_imp = SimpleImputer(strategy='median')\n",
    "ohe = OneHotEncoder(sparse_output=False)\n",
    "min_max = MinMaxScaler()\n",
    "\n",
    "ct1 = ColumnTransformer(transformers=[('sim_imp', sim_imp, ['age']),\n",
    "                                      ('ohe', ohe, ['relationship', 'race', 'sex']),\n",
    "                                      ], remainder='passthrough')\n",
    "\n",
    "ct2 = ColumnTransformer(transformers=[('min_max', min_max, ['sim_imp__age','remainder__hour-per-week'])], remainder='passthrough')\n",
    "\n",
    "pipeline = Pipeline([('ct1', ct1), ('ct2', ct2)]).set_output(transform='pandas')"
   ]
  },
  {
   "cell_type": "markdown",
   "id": "ac58724b",
   "metadata": {
    "hidden": true
   },
   "source": [
    "> Observação: para aplicar a pipeline de transformação nos dados de teste, usar `pipeline.transform` (sem o fit)."
   ]
  },
  {
   "cell_type": "code",
   "execution_count": 25,
   "id": "33833203",
   "metadata": {
    "ExecuteTime": {
     "end_time": "2023-04-22T03:13:47.826445Z",
     "start_time": "2023-04-22T03:13:47.663773Z"
    },
    "hidden": true
   },
   "outputs": [
    {
     "data": {
      "text/html": [
       "<div>\n",
       "<style scoped>\n",
       "    .dataframe tbody tr th:only-of-type {\n",
       "        vertical-align: middle;\n",
       "    }\n",
       "\n",
       "    .dataframe tbody tr th {\n",
       "        vertical-align: top;\n",
       "    }\n",
       "\n",
       "    .dataframe thead th {\n",
       "        text-align: right;\n",
       "    }\n",
       "</style>\n",
       "<table border=\"1\" class=\"dataframe\">\n",
       "  <thead>\n",
       "    <tr style=\"text-align: right;\">\n",
       "      <th></th>\n",
       "      <th>min_max__sim_imp__age</th>\n",
       "      <th>min_max__remainder__hour-per-week</th>\n",
       "      <th>remainder__ohe__relationship_ Husband</th>\n",
       "      <th>remainder__ohe__relationship_ Not-in-family</th>\n",
       "      <th>remainder__ohe__relationship_ Other-relative</th>\n",
       "      <th>remainder__ohe__relationship_ Own-child</th>\n",
       "      <th>remainder__ohe__relationship_ Unmarried</th>\n",
       "      <th>remainder__ohe__relationship_ Wife</th>\n",
       "      <th>remainder__ohe__race_ Amer-Indian-Eskimo</th>\n",
       "      <th>remainder__ohe__race_ Asian-Pac-Islander</th>\n",
       "      <th>remainder__ohe__race_ Black</th>\n",
       "      <th>remainder__ohe__race_ Other</th>\n",
       "      <th>remainder__ohe__race_ White</th>\n",
       "      <th>remainder__ohe__sex_ Female</th>\n",
       "      <th>remainder__ohe__sex_ Male</th>\n",
       "      <th>remainder__remainder__education-num</th>\n",
       "    </tr>\n",
       "  </thead>\n",
       "  <tbody>\n",
       "    <tr>\n",
       "      <th>13884</th>\n",
       "      <td>0.726027</td>\n",
       "      <td>0.597938</td>\n",
       "      <td>1.0</td>\n",
       "      <td>0.0</td>\n",
       "      <td>0.0</td>\n",
       "      <td>0.0</td>\n",
       "      <td>0.0</td>\n",
       "      <td>0.0</td>\n",
       "      <td>0.0</td>\n",
       "      <td>0.0</td>\n",
       "      <td>0.0</td>\n",
       "      <td>0.0</td>\n",
       "      <td>1.0</td>\n",
       "      <td>0.0</td>\n",
       "      <td>1.0</td>\n",
       "      <td>9</td>\n",
       "    </tr>\n",
       "    <tr>\n",
       "      <th>20463</th>\n",
       "      <td>0.931507</td>\n",
       "      <td>0.494845</td>\n",
       "      <td>0.0</td>\n",
       "      <td>1.0</td>\n",
       "      <td>0.0</td>\n",
       "      <td>0.0</td>\n",
       "      <td>0.0</td>\n",
       "      <td>0.0</td>\n",
       "      <td>0.0</td>\n",
       "      <td>0.0</td>\n",
       "      <td>0.0</td>\n",
       "      <td>0.0</td>\n",
       "      <td>1.0</td>\n",
       "      <td>1.0</td>\n",
       "      <td>0.0</td>\n",
       "      <td>9</td>\n",
       "    </tr>\n",
       "    <tr>\n",
       "      <th>20479</th>\n",
       "      <td>0.643836</td>\n",
       "      <td>0.546392</td>\n",
       "      <td>1.0</td>\n",
       "      <td>0.0</td>\n",
       "      <td>0.0</td>\n",
       "      <td>0.0</td>\n",
       "      <td>0.0</td>\n",
       "      <td>0.0</td>\n",
       "      <td>0.0</td>\n",
       "      <td>0.0</td>\n",
       "      <td>0.0</td>\n",
       "      <td>0.0</td>\n",
       "      <td>1.0</td>\n",
       "      <td>0.0</td>\n",
       "      <td>1.0</td>\n",
       "      <td>11</td>\n",
       "    </tr>\n",
       "    <tr>\n",
       "      <th>14943</th>\n",
       "      <td>0.191781</td>\n",
       "      <td>0.649485</td>\n",
       "      <td>1.0</td>\n",
       "      <td>0.0</td>\n",
       "      <td>0.0</td>\n",
       "      <td>0.0</td>\n",
       "      <td>0.0</td>\n",
       "      <td>0.0</td>\n",
       "      <td>0.0</td>\n",
       "      <td>0.0</td>\n",
       "      <td>0.0</td>\n",
       "      <td>0.0</td>\n",
       "      <td>1.0</td>\n",
       "      <td>0.0</td>\n",
       "      <td>1.0</td>\n",
       "      <td>9</td>\n",
       "    </tr>\n",
       "    <tr>\n",
       "      <th>24376</th>\n",
       "      <td>0.068493</td>\n",
       "      <td>0.391753</td>\n",
       "      <td>0.0</td>\n",
       "      <td>1.0</td>\n",
       "      <td>0.0</td>\n",
       "      <td>0.0</td>\n",
       "      <td>0.0</td>\n",
       "      <td>0.0</td>\n",
       "      <td>1.0</td>\n",
       "      <td>0.0</td>\n",
       "      <td>0.0</td>\n",
       "      <td>0.0</td>\n",
       "      <td>0.0</td>\n",
       "      <td>1.0</td>\n",
       "      <td>0.0</td>\n",
       "      <td>13</td>\n",
       "    </tr>\n",
       "    <tr>\n",
       "      <th>...</th>\n",
       "      <td>...</td>\n",
       "      <td>...</td>\n",
       "      <td>...</td>\n",
       "      <td>...</td>\n",
       "      <td>...</td>\n",
       "      <td>...</td>\n",
       "      <td>...</td>\n",
       "      <td>...</td>\n",
       "      <td>...</td>\n",
       "      <td>...</td>\n",
       "      <td>...</td>\n",
       "      <td>...</td>\n",
       "      <td>...</td>\n",
       "      <td>...</td>\n",
       "      <td>...</td>\n",
       "      <td>...</td>\n",
       "    </tr>\n",
       "    <tr>\n",
       "      <th>31434</th>\n",
       "      <td>0.301370</td>\n",
       "      <td>0.443299</td>\n",
       "      <td>1.0</td>\n",
       "      <td>0.0</td>\n",
       "      <td>0.0</td>\n",
       "      <td>0.0</td>\n",
       "      <td>0.0</td>\n",
       "      <td>0.0</td>\n",
       "      <td>0.0</td>\n",
       "      <td>0.0</td>\n",
       "      <td>0.0</td>\n",
       "      <td>0.0</td>\n",
       "      <td>1.0</td>\n",
       "      <td>0.0</td>\n",
       "      <td>1.0</td>\n",
       "      <td>14</td>\n",
       "    </tr>\n",
       "    <tr>\n",
       "      <th>12250</th>\n",
       "      <td>0.465753</td>\n",
       "      <td>0.391753</td>\n",
       "      <td>1.0</td>\n",
       "      <td>0.0</td>\n",
       "      <td>0.0</td>\n",
       "      <td>0.0</td>\n",
       "      <td>0.0</td>\n",
       "      <td>0.0</td>\n",
       "      <td>0.0</td>\n",
       "      <td>0.0</td>\n",
       "      <td>0.0</td>\n",
       "      <td>0.0</td>\n",
       "      <td>1.0</td>\n",
       "      <td>0.0</td>\n",
       "      <td>1.0</td>\n",
       "      <td>9</td>\n",
       "    </tr>\n",
       "    <tr>\n",
       "      <th>535</th>\n",
       "      <td>0.301370</td>\n",
       "      <td>0.494845</td>\n",
       "      <td>1.0</td>\n",
       "      <td>0.0</td>\n",
       "      <td>0.0</td>\n",
       "      <td>0.0</td>\n",
       "      <td>0.0</td>\n",
       "      <td>0.0</td>\n",
       "      <td>0.0</td>\n",
       "      <td>0.0</td>\n",
       "      <td>0.0</td>\n",
       "      <td>0.0</td>\n",
       "      <td>1.0</td>\n",
       "      <td>0.0</td>\n",
       "      <td>1.0</td>\n",
       "      <td>8</td>\n",
       "    </tr>\n",
       "    <tr>\n",
       "      <th>17772</th>\n",
       "      <td>0.397260</td>\n",
       "      <td>0.391753</td>\n",
       "      <td>1.0</td>\n",
       "      <td>0.0</td>\n",
       "      <td>0.0</td>\n",
       "      <td>0.0</td>\n",
       "      <td>0.0</td>\n",
       "      <td>0.0</td>\n",
       "      <td>0.0</td>\n",
       "      <td>0.0</td>\n",
       "      <td>0.0</td>\n",
       "      <td>0.0</td>\n",
       "      <td>1.0</td>\n",
       "      <td>0.0</td>\n",
       "      <td>1.0</td>\n",
       "      <td>9</td>\n",
       "    </tr>\n",
       "    <tr>\n",
       "      <th>6093</th>\n",
       "      <td>0.191781</td>\n",
       "      <td>0.443299</td>\n",
       "      <td>0.0</td>\n",
       "      <td>1.0</td>\n",
       "      <td>0.0</td>\n",
       "      <td>0.0</td>\n",
       "      <td>0.0</td>\n",
       "      <td>0.0</td>\n",
       "      <td>0.0</td>\n",
       "      <td>0.0</td>\n",
       "      <td>0.0</td>\n",
       "      <td>0.0</td>\n",
       "      <td>1.0</td>\n",
       "      <td>0.0</td>\n",
       "      <td>1.0</td>\n",
       "      <td>10</td>\n",
       "    </tr>\n",
       "  </tbody>\n",
       "</table>\n",
       "<p>900 rows × 16 columns</p>\n",
       "</div>"
      ],
      "text/plain": [
       "       min_max__sim_imp__age  min_max__remainder__hour-per-week  \\\n",
       "13884               0.726027                           0.597938   \n",
       "20463               0.931507                           0.494845   \n",
       "20479               0.643836                           0.546392   \n",
       "14943               0.191781                           0.649485   \n",
       "24376               0.068493                           0.391753   \n",
       "...                      ...                                ...   \n",
       "31434               0.301370                           0.443299   \n",
       "12250               0.465753                           0.391753   \n",
       "535                 0.301370                           0.494845   \n",
       "17772               0.397260                           0.391753   \n",
       "6093                0.191781                           0.443299   \n",
       "\n",
       "       remainder__ohe__relationship_ Husband  \\\n",
       "13884                                    1.0   \n",
       "20463                                    0.0   \n",
       "20479                                    1.0   \n",
       "14943                                    1.0   \n",
       "24376                                    0.0   \n",
       "...                                      ...   \n",
       "31434                                    1.0   \n",
       "12250                                    1.0   \n",
       "535                                      1.0   \n",
       "17772                                    1.0   \n",
       "6093                                     0.0   \n",
       "\n",
       "       remainder__ohe__relationship_ Not-in-family  \\\n",
       "13884                                          0.0   \n",
       "20463                                          1.0   \n",
       "20479                                          0.0   \n",
       "14943                                          0.0   \n",
       "24376                                          1.0   \n",
       "...                                            ...   \n",
       "31434                                          0.0   \n",
       "12250                                          0.0   \n",
       "535                                            0.0   \n",
       "17772                                          0.0   \n",
       "6093                                           1.0   \n",
       "\n",
       "       remainder__ohe__relationship_ Other-relative  \\\n",
       "13884                                           0.0   \n",
       "20463                                           0.0   \n",
       "20479                                           0.0   \n",
       "14943                                           0.0   \n",
       "24376                                           0.0   \n",
       "...                                             ...   \n",
       "31434                                           0.0   \n",
       "12250                                           0.0   \n",
       "535                                             0.0   \n",
       "17772                                           0.0   \n",
       "6093                                            0.0   \n",
       "\n",
       "       remainder__ohe__relationship_ Own-child  \\\n",
       "13884                                      0.0   \n",
       "20463                                      0.0   \n",
       "20479                                      0.0   \n",
       "14943                                      0.0   \n",
       "24376                                      0.0   \n",
       "...                                        ...   \n",
       "31434                                      0.0   \n",
       "12250                                      0.0   \n",
       "535                                        0.0   \n",
       "17772                                      0.0   \n",
       "6093                                       0.0   \n",
       "\n",
       "       remainder__ohe__relationship_ Unmarried  \\\n",
       "13884                                      0.0   \n",
       "20463                                      0.0   \n",
       "20479                                      0.0   \n",
       "14943                                      0.0   \n",
       "24376                                      0.0   \n",
       "...                                        ...   \n",
       "31434                                      0.0   \n",
       "12250                                      0.0   \n",
       "535                                        0.0   \n",
       "17772                                      0.0   \n",
       "6093                                       0.0   \n",
       "\n",
       "       remainder__ohe__relationship_ Wife  \\\n",
       "13884                                 0.0   \n",
       "20463                                 0.0   \n",
       "20479                                 0.0   \n",
       "14943                                 0.0   \n",
       "24376                                 0.0   \n",
       "...                                   ...   \n",
       "31434                                 0.0   \n",
       "12250                                 0.0   \n",
       "535                                   0.0   \n",
       "17772                                 0.0   \n",
       "6093                                  0.0   \n",
       "\n",
       "       remainder__ohe__race_ Amer-Indian-Eskimo  \\\n",
       "13884                                       0.0   \n",
       "20463                                       0.0   \n",
       "20479                                       0.0   \n",
       "14943                                       0.0   \n",
       "24376                                       1.0   \n",
       "...                                         ...   \n",
       "31434                                       0.0   \n",
       "12250                                       0.0   \n",
       "535                                         0.0   \n",
       "17772                                       0.0   \n",
       "6093                                        0.0   \n",
       "\n",
       "       remainder__ohe__race_ Asian-Pac-Islander  remainder__ohe__race_ Black  \\\n",
       "13884                                       0.0                          0.0   \n",
       "20463                                       0.0                          0.0   \n",
       "20479                                       0.0                          0.0   \n",
       "14943                                       0.0                          0.0   \n",
       "24376                                       0.0                          0.0   \n",
       "...                                         ...                          ...   \n",
       "31434                                       0.0                          0.0   \n",
       "12250                                       0.0                          0.0   \n",
       "535                                         0.0                          0.0   \n",
       "17772                                       0.0                          0.0   \n",
       "6093                                        0.0                          0.0   \n",
       "\n",
       "       remainder__ohe__race_ Other  remainder__ohe__race_ White  \\\n",
       "13884                          0.0                          1.0   \n",
       "20463                          0.0                          1.0   \n",
       "20479                          0.0                          1.0   \n",
       "14943                          0.0                          1.0   \n",
       "24376                          0.0                          0.0   \n",
       "...                            ...                          ...   \n",
       "31434                          0.0                          1.0   \n",
       "12250                          0.0                          1.0   \n",
       "535                            0.0                          1.0   \n",
       "17772                          0.0                          1.0   \n",
       "6093                           0.0                          1.0   \n",
       "\n",
       "       remainder__ohe__sex_ Female  remainder__ohe__sex_ Male  \\\n",
       "13884                          0.0                        1.0   \n",
       "20463                          1.0                        0.0   \n",
       "20479                          0.0                        1.0   \n",
       "14943                          0.0                        1.0   \n",
       "24376                          1.0                        0.0   \n",
       "...                            ...                        ...   \n",
       "31434                          0.0                        1.0   \n",
       "12250                          0.0                        1.0   \n",
       "535                            0.0                        1.0   \n",
       "17772                          0.0                        1.0   \n",
       "6093                           0.0                        1.0   \n",
       "\n",
       "       remainder__remainder__education-num  \n",
       "13884                                    9  \n",
       "20463                                    9  \n",
       "20479                                   11  \n",
       "14943                                    9  \n",
       "24376                                   13  \n",
       "...                                    ...  \n",
       "31434                                   14  \n",
       "12250                                    9  \n",
       "535                                      8  \n",
       "17772                                    9  \n",
       "6093                                    10  \n",
       "\n",
       "[900 rows x 16 columns]"
      ]
     },
     "metadata": {},
     "output_type": "display_data"
    },
    {
     "data": {
      "text/html": [
       "<div>\n",
       "<style scoped>\n",
       "    .dataframe tbody tr th:only-of-type {\n",
       "        vertical-align: middle;\n",
       "    }\n",
       "\n",
       "    .dataframe tbody tr th {\n",
       "        vertical-align: top;\n",
       "    }\n",
       "\n",
       "    .dataframe thead th {\n",
       "        text-align: right;\n",
       "    }\n",
       "</style>\n",
       "<table border=\"1\" class=\"dataframe\">\n",
       "  <thead>\n",
       "    <tr style=\"text-align: right;\">\n",
       "      <th></th>\n",
       "      <th>min_max__sim_imp__age</th>\n",
       "      <th>min_max__remainder__hour-per-week</th>\n",
       "      <th>remainder__ohe__relationship_ Husband</th>\n",
       "      <th>remainder__ohe__relationship_ Not-in-family</th>\n",
       "      <th>remainder__ohe__relationship_ Other-relative</th>\n",
       "      <th>remainder__ohe__relationship_ Own-child</th>\n",
       "      <th>remainder__ohe__relationship_ Unmarried</th>\n",
       "      <th>remainder__ohe__relationship_ Wife</th>\n",
       "      <th>remainder__ohe__race_ Amer-Indian-Eskimo</th>\n",
       "      <th>remainder__ohe__race_ Asian-Pac-Islander</th>\n",
       "      <th>remainder__ohe__race_ Black</th>\n",
       "      <th>remainder__ohe__race_ Other</th>\n",
       "      <th>remainder__ohe__race_ White</th>\n",
       "      <th>remainder__ohe__sex_ Female</th>\n",
       "      <th>remainder__ohe__sex_ Male</th>\n",
       "      <th>remainder__remainder__education-num</th>\n",
       "    </tr>\n",
       "  </thead>\n",
       "  <tbody>\n",
       "    <tr>\n",
       "      <th>19907</th>\n",
       "      <td>0.082192</td>\n",
       "      <td>0.391753</td>\n",
       "      <td>0.0</td>\n",
       "      <td>0.0</td>\n",
       "      <td>0.0</td>\n",
       "      <td>1.0</td>\n",
       "      <td>0.0</td>\n",
       "      <td>0.0</td>\n",
       "      <td>0.0</td>\n",
       "      <td>0.0</td>\n",
       "      <td>0.0</td>\n",
       "      <td>0.0</td>\n",
       "      <td>1.0</td>\n",
       "      <td>0.0</td>\n",
       "      <td>1.0</td>\n",
       "      <td>9</td>\n",
       "    </tr>\n",
       "    <tr>\n",
       "      <th>23139</th>\n",
       "      <td>0.068493</td>\n",
       "      <td>0.257732</td>\n",
       "      <td>0.0</td>\n",
       "      <td>1.0</td>\n",
       "      <td>0.0</td>\n",
       "      <td>0.0</td>\n",
       "      <td>0.0</td>\n",
       "      <td>0.0</td>\n",
       "      <td>0.0</td>\n",
       "      <td>0.0</td>\n",
       "      <td>0.0</td>\n",
       "      <td>0.0</td>\n",
       "      <td>1.0</td>\n",
       "      <td>0.0</td>\n",
       "      <td>1.0</td>\n",
       "      <td>9</td>\n",
       "    </tr>\n",
       "    <tr>\n",
       "      <th>10390</th>\n",
       "      <td>0.643836</td>\n",
       "      <td>0.391753</td>\n",
       "      <td>1.0</td>\n",
       "      <td>0.0</td>\n",
       "      <td>0.0</td>\n",
       "      <td>0.0</td>\n",
       "      <td>0.0</td>\n",
       "      <td>0.0</td>\n",
       "      <td>0.0</td>\n",
       "      <td>0.0</td>\n",
       "      <td>0.0</td>\n",
       "      <td>0.0</td>\n",
       "      <td>1.0</td>\n",
       "      <td>0.0</td>\n",
       "      <td>1.0</td>\n",
       "      <td>9</td>\n",
       "    </tr>\n",
       "    <tr>\n",
       "      <th>16599</th>\n",
       "      <td>0.109589</td>\n",
       "      <td>0.391753</td>\n",
       "      <td>0.0</td>\n",
       "      <td>0.0</td>\n",
       "      <td>0.0</td>\n",
       "      <td>0.0</td>\n",
       "      <td>1.0</td>\n",
       "      <td>0.0</td>\n",
       "      <td>0.0</td>\n",
       "      <td>0.0</td>\n",
       "      <td>0.0</td>\n",
       "      <td>0.0</td>\n",
       "      <td>1.0</td>\n",
       "      <td>0.0</td>\n",
       "      <td>1.0</td>\n",
       "      <td>5</td>\n",
       "    </tr>\n",
       "    <tr>\n",
       "      <th>20679</th>\n",
       "      <td>0.273973</td>\n",
       "      <td>0.391753</td>\n",
       "      <td>1.0</td>\n",
       "      <td>0.0</td>\n",
       "      <td>0.0</td>\n",
       "      <td>0.0</td>\n",
       "      <td>0.0</td>\n",
       "      <td>0.0</td>\n",
       "      <td>0.0</td>\n",
       "      <td>0.0</td>\n",
       "      <td>0.0</td>\n",
       "      <td>0.0</td>\n",
       "      <td>1.0</td>\n",
       "      <td>0.0</td>\n",
       "      <td>1.0</td>\n",
       "      <td>9</td>\n",
       "    </tr>\n",
       "    <tr>\n",
       "      <th>...</th>\n",
       "      <td>...</td>\n",
       "      <td>...</td>\n",
       "      <td>...</td>\n",
       "      <td>...</td>\n",
       "      <td>...</td>\n",
       "      <td>...</td>\n",
       "      <td>...</td>\n",
       "      <td>...</td>\n",
       "      <td>...</td>\n",
       "      <td>...</td>\n",
       "      <td>...</td>\n",
       "      <td>...</td>\n",
       "      <td>...</td>\n",
       "      <td>...</td>\n",
       "      <td>...</td>\n",
       "      <td>...</td>\n",
       "    </tr>\n",
       "    <tr>\n",
       "      <th>10070</th>\n",
       "      <td>0.150685</td>\n",
       "      <td>0.391753</td>\n",
       "      <td>0.0</td>\n",
       "      <td>0.0</td>\n",
       "      <td>0.0</td>\n",
       "      <td>0.0</td>\n",
       "      <td>0.0</td>\n",
       "      <td>1.0</td>\n",
       "      <td>0.0</td>\n",
       "      <td>0.0</td>\n",
       "      <td>0.0</td>\n",
       "      <td>0.0</td>\n",
       "      <td>1.0</td>\n",
       "      <td>1.0</td>\n",
       "      <td>0.0</td>\n",
       "      <td>9</td>\n",
       "    </tr>\n",
       "    <tr>\n",
       "      <th>10764</th>\n",
       "      <td>0.041096</td>\n",
       "      <td>0.185567</td>\n",
       "      <td>0.0</td>\n",
       "      <td>0.0</td>\n",
       "      <td>0.0</td>\n",
       "      <td>1.0</td>\n",
       "      <td>0.0</td>\n",
       "      <td>0.0</td>\n",
       "      <td>0.0</td>\n",
       "      <td>0.0</td>\n",
       "      <td>0.0</td>\n",
       "      <td>0.0</td>\n",
       "      <td>1.0</td>\n",
       "      <td>1.0</td>\n",
       "      <td>0.0</td>\n",
       "      <td>10</td>\n",
       "    </tr>\n",
       "    <tr>\n",
       "      <th>9264</th>\n",
       "      <td>0.000000</td>\n",
       "      <td>0.103093</td>\n",
       "      <td>0.0</td>\n",
       "      <td>0.0</td>\n",
       "      <td>0.0</td>\n",
       "      <td>1.0</td>\n",
       "      <td>0.0</td>\n",
       "      <td>0.0</td>\n",
       "      <td>0.0</td>\n",
       "      <td>0.0</td>\n",
       "      <td>0.0</td>\n",
       "      <td>0.0</td>\n",
       "      <td>1.0</td>\n",
       "      <td>0.0</td>\n",
       "      <td>1.0</td>\n",
       "      <td>8</td>\n",
       "    </tr>\n",
       "    <tr>\n",
       "      <th>11390</th>\n",
       "      <td>0.178082</td>\n",
       "      <td>0.288660</td>\n",
       "      <td>0.0</td>\n",
       "      <td>0.0</td>\n",
       "      <td>0.0</td>\n",
       "      <td>0.0</td>\n",
       "      <td>1.0</td>\n",
       "      <td>0.0</td>\n",
       "      <td>0.0</td>\n",
       "      <td>0.0</td>\n",
       "      <td>0.0</td>\n",
       "      <td>0.0</td>\n",
       "      <td>1.0</td>\n",
       "      <td>1.0</td>\n",
       "      <td>0.0</td>\n",
       "      <td>10</td>\n",
       "    </tr>\n",
       "    <tr>\n",
       "      <th>18110</th>\n",
       "      <td>0.123288</td>\n",
       "      <td>0.391753</td>\n",
       "      <td>0.0</td>\n",
       "      <td>1.0</td>\n",
       "      <td>0.0</td>\n",
       "      <td>0.0</td>\n",
       "      <td>0.0</td>\n",
       "      <td>0.0</td>\n",
       "      <td>0.0</td>\n",
       "      <td>0.0</td>\n",
       "      <td>1.0</td>\n",
       "      <td>0.0</td>\n",
       "      <td>0.0</td>\n",
       "      <td>1.0</td>\n",
       "      <td>0.0</td>\n",
       "      <td>13</td>\n",
       "    </tr>\n",
       "  </tbody>\n",
       "</table>\n",
       "<p>100 rows × 16 columns</p>\n",
       "</div>"
      ],
      "text/plain": [
       "       min_max__sim_imp__age  min_max__remainder__hour-per-week  \\\n",
       "19907               0.082192                           0.391753   \n",
       "23139               0.068493                           0.257732   \n",
       "10390               0.643836                           0.391753   \n",
       "16599               0.109589                           0.391753   \n",
       "20679               0.273973                           0.391753   \n",
       "...                      ...                                ...   \n",
       "10070               0.150685                           0.391753   \n",
       "10764               0.041096                           0.185567   \n",
       "9264                0.000000                           0.103093   \n",
       "11390               0.178082                           0.288660   \n",
       "18110               0.123288                           0.391753   \n",
       "\n",
       "       remainder__ohe__relationship_ Husband  \\\n",
       "19907                                    0.0   \n",
       "23139                                    0.0   \n",
       "10390                                    1.0   \n",
       "16599                                    0.0   \n",
       "20679                                    1.0   \n",
       "...                                      ...   \n",
       "10070                                    0.0   \n",
       "10764                                    0.0   \n",
       "9264                                     0.0   \n",
       "11390                                    0.0   \n",
       "18110                                    0.0   \n",
       "\n",
       "       remainder__ohe__relationship_ Not-in-family  \\\n",
       "19907                                          0.0   \n",
       "23139                                          1.0   \n",
       "10390                                          0.0   \n",
       "16599                                          0.0   \n",
       "20679                                          0.0   \n",
       "...                                            ...   \n",
       "10070                                          0.0   \n",
       "10764                                          0.0   \n",
       "9264                                           0.0   \n",
       "11390                                          0.0   \n",
       "18110                                          1.0   \n",
       "\n",
       "       remainder__ohe__relationship_ Other-relative  \\\n",
       "19907                                           0.0   \n",
       "23139                                           0.0   \n",
       "10390                                           0.0   \n",
       "16599                                           0.0   \n",
       "20679                                           0.0   \n",
       "...                                             ...   \n",
       "10070                                           0.0   \n",
       "10764                                           0.0   \n",
       "9264                                            0.0   \n",
       "11390                                           0.0   \n",
       "18110                                           0.0   \n",
       "\n",
       "       remainder__ohe__relationship_ Own-child  \\\n",
       "19907                                      1.0   \n",
       "23139                                      0.0   \n",
       "10390                                      0.0   \n",
       "16599                                      0.0   \n",
       "20679                                      0.0   \n",
       "...                                        ...   \n",
       "10070                                      0.0   \n",
       "10764                                      1.0   \n",
       "9264                                       1.0   \n",
       "11390                                      0.0   \n",
       "18110                                      0.0   \n",
       "\n",
       "       remainder__ohe__relationship_ Unmarried  \\\n",
       "19907                                      0.0   \n",
       "23139                                      0.0   \n",
       "10390                                      0.0   \n",
       "16599                                      1.0   \n",
       "20679                                      0.0   \n",
       "...                                        ...   \n",
       "10070                                      0.0   \n",
       "10764                                      0.0   \n",
       "9264                                       0.0   \n",
       "11390                                      1.0   \n",
       "18110                                      0.0   \n",
       "\n",
       "       remainder__ohe__relationship_ Wife  \\\n",
       "19907                                 0.0   \n",
       "23139                                 0.0   \n",
       "10390                                 0.0   \n",
       "16599                                 0.0   \n",
       "20679                                 0.0   \n",
       "...                                   ...   \n",
       "10070                                 1.0   \n",
       "10764                                 0.0   \n",
       "9264                                  0.0   \n",
       "11390                                 0.0   \n",
       "18110                                 0.0   \n",
       "\n",
       "       remainder__ohe__race_ Amer-Indian-Eskimo  \\\n",
       "19907                                       0.0   \n",
       "23139                                       0.0   \n",
       "10390                                       0.0   \n",
       "16599                                       0.0   \n",
       "20679                                       0.0   \n",
       "...                                         ...   \n",
       "10070                                       0.0   \n",
       "10764                                       0.0   \n",
       "9264                                        0.0   \n",
       "11390                                       0.0   \n",
       "18110                                       0.0   \n",
       "\n",
       "       remainder__ohe__race_ Asian-Pac-Islander  remainder__ohe__race_ Black  \\\n",
       "19907                                       0.0                          0.0   \n",
       "23139                                       0.0                          0.0   \n",
       "10390                                       0.0                          0.0   \n",
       "16599                                       0.0                          0.0   \n",
       "20679                                       0.0                          0.0   \n",
       "...                                         ...                          ...   \n",
       "10070                                       0.0                          0.0   \n",
       "10764                                       0.0                          0.0   \n",
       "9264                                        0.0                          0.0   \n",
       "11390                                       0.0                          0.0   \n",
       "18110                                       0.0                          1.0   \n",
       "\n",
       "       remainder__ohe__race_ Other  remainder__ohe__race_ White  \\\n",
       "19907                          0.0                          1.0   \n",
       "23139                          0.0                          1.0   \n",
       "10390                          0.0                          1.0   \n",
       "16599                          0.0                          1.0   \n",
       "20679                          0.0                          1.0   \n",
       "...                            ...                          ...   \n",
       "10070                          0.0                          1.0   \n",
       "10764                          0.0                          1.0   \n",
       "9264                           0.0                          1.0   \n",
       "11390                          0.0                          1.0   \n",
       "18110                          0.0                          0.0   \n",
       "\n",
       "       remainder__ohe__sex_ Female  remainder__ohe__sex_ Male  \\\n",
       "19907                          0.0                        1.0   \n",
       "23139                          0.0                        1.0   \n",
       "10390                          0.0                        1.0   \n",
       "16599                          0.0                        1.0   \n",
       "20679                          0.0                        1.0   \n",
       "...                            ...                        ...   \n",
       "10070                          1.0                        0.0   \n",
       "10764                          1.0                        0.0   \n",
       "9264                           0.0                        1.0   \n",
       "11390                          1.0                        0.0   \n",
       "18110                          1.0                        0.0   \n",
       "\n",
       "       remainder__remainder__education-num  \n",
       "19907                                    9  \n",
       "23139                                    9  \n",
       "10390                                    9  \n",
       "16599                                    5  \n",
       "20679                                    9  \n",
       "...                                    ...  \n",
       "10070                                    9  \n",
       "10764                                   10  \n",
       "9264                                     8  \n",
       "11390                                   10  \n",
       "18110                                   13  \n",
       "\n",
       "[100 rows x 16 columns]"
      ]
     },
     "metadata": {},
     "output_type": "display_data"
    }
   ],
   "source": [
    "display(pipeline.fit_transform(X_train))\n",
    "display(pipeline.transform(X_test))"
   ]
  },
  {
   "cell_type": "code",
   "execution_count": 26,
   "id": "4107c596",
   "metadata": {
    "ExecuteTime": {
     "end_time": "2023-04-22T03:13:47.900184Z",
     "start_time": "2023-04-22T03:13:47.840485Z"
    },
    "hidden": true
   },
   "outputs": [],
   "source": [
    "X_train = pipeline.fit_transform(X_train)\n",
    "X_test = pipeline.transform(X_test)"
   ]
  },
  {
   "cell_type": "markdown",
   "id": "6a351fa2",
   "metadata": {
    "hidden": true
   },
   "source": [
    "## Transformando o target"
   ]
  },
  {
   "cell_type": "code",
   "execution_count": 27,
   "id": "bd05f534",
   "metadata": {
    "ExecuteTime": {
     "end_time": "2023-04-22T03:13:47.920076Z",
     "start_time": "2023-04-22T03:13:47.905945Z"
    },
    "hidden": true
   },
   "outputs": [
    {
     "data": {
      "text/html": [
       "<style>#sk-container-id-1 {color: black;background-color: white;}#sk-container-id-1 pre{padding: 0;}#sk-container-id-1 div.sk-toggleable {background-color: white;}#sk-container-id-1 label.sk-toggleable__label {cursor: pointer;display: block;width: 100%;margin-bottom: 0;padding: 0.3em;box-sizing: border-box;text-align: center;}#sk-container-id-1 label.sk-toggleable__label-arrow:before {content: \"▸\";float: left;margin-right: 0.25em;color: #696969;}#sk-container-id-1 label.sk-toggleable__label-arrow:hover:before {color: black;}#sk-container-id-1 div.sk-estimator:hover label.sk-toggleable__label-arrow:before {color: black;}#sk-container-id-1 div.sk-toggleable__content {max-height: 0;max-width: 0;overflow: hidden;text-align: left;background-color: #f0f8ff;}#sk-container-id-1 div.sk-toggleable__content pre {margin: 0.2em;color: black;border-radius: 0.25em;background-color: #f0f8ff;}#sk-container-id-1 input.sk-toggleable__control:checked~div.sk-toggleable__content {max-height: 200px;max-width: 100%;overflow: auto;}#sk-container-id-1 input.sk-toggleable__control:checked~label.sk-toggleable__label-arrow:before {content: \"▾\";}#sk-container-id-1 div.sk-estimator input.sk-toggleable__control:checked~label.sk-toggleable__label {background-color: #d4ebff;}#sk-container-id-1 div.sk-label input.sk-toggleable__control:checked~label.sk-toggleable__label {background-color: #d4ebff;}#sk-container-id-1 input.sk-hidden--visually {border: 0;clip: rect(1px 1px 1px 1px);clip: rect(1px, 1px, 1px, 1px);height: 1px;margin: -1px;overflow: hidden;padding: 0;position: absolute;width: 1px;}#sk-container-id-1 div.sk-estimator {font-family: monospace;background-color: #f0f8ff;border: 1px dotted black;border-radius: 0.25em;box-sizing: border-box;margin-bottom: 0.5em;}#sk-container-id-1 div.sk-estimator:hover {background-color: #d4ebff;}#sk-container-id-1 div.sk-parallel-item::after {content: \"\";width: 100%;border-bottom: 1px solid gray;flex-grow: 1;}#sk-container-id-1 div.sk-label:hover label.sk-toggleable__label {background-color: #d4ebff;}#sk-container-id-1 div.sk-serial::before {content: \"\";position: absolute;border-left: 1px solid gray;box-sizing: border-box;top: 0;bottom: 0;left: 50%;z-index: 0;}#sk-container-id-1 div.sk-serial {display: flex;flex-direction: column;align-items: center;background-color: white;padding-right: 0.2em;padding-left: 0.2em;position: relative;}#sk-container-id-1 div.sk-item {position: relative;z-index: 1;}#sk-container-id-1 div.sk-parallel {display: flex;align-items: stretch;justify-content: center;background-color: white;position: relative;}#sk-container-id-1 div.sk-item::before, #sk-container-id-1 div.sk-parallel-item::before {content: \"\";position: absolute;border-left: 1px solid gray;box-sizing: border-box;top: 0;bottom: 0;left: 50%;z-index: -1;}#sk-container-id-1 div.sk-parallel-item {display: flex;flex-direction: column;z-index: 1;position: relative;background-color: white;}#sk-container-id-1 div.sk-parallel-item:first-child::after {align-self: flex-end;width: 50%;}#sk-container-id-1 div.sk-parallel-item:last-child::after {align-self: flex-start;width: 50%;}#sk-container-id-1 div.sk-parallel-item:only-child::after {width: 0;}#sk-container-id-1 div.sk-dashed-wrapped {border: 1px dashed gray;margin: 0 0.4em 0.5em 0.4em;box-sizing: border-box;padding-bottom: 0.4em;background-color: white;}#sk-container-id-1 div.sk-label label {font-family: monospace;font-weight: bold;display: inline-block;line-height: 1.2em;}#sk-container-id-1 div.sk-label-container {text-align: center;}#sk-container-id-1 div.sk-container {/* jupyter's `normalize.less` sets `[hidden] { display: none; }` but bootstrap.min.css set `[hidden] { display: none !important; }` so we also need the `!important` here to be able to override the default hidden behavior on the sphinx rendered scikit-learn.org. See: https://github.com/scikit-learn/scikit-learn/issues/21755 */display: inline-block !important;position: relative;}#sk-container-id-1 div.sk-text-repr-fallback {display: none;}</style><div id=\"sk-container-id-1\" class=\"sk-top-container\"><div class=\"sk-text-repr-fallback\"><pre>LabelEncoder()</pre><b>In a Jupyter environment, please rerun this cell to show the HTML representation or trust the notebook. <br />On GitHub, the HTML representation is unable to render, please try loading this page with nbviewer.org.</b></div><div class=\"sk-container\" hidden><div class=\"sk-item\"><div class=\"sk-estimator sk-toggleable\"><input class=\"sk-toggleable__control sk-hidden--visually\" id=\"sk-estimator-id-1\" type=\"checkbox\" checked><label for=\"sk-estimator-id-1\" class=\"sk-toggleable__label sk-toggleable__label-arrow\">LabelEncoder</label><div class=\"sk-toggleable__content\"><pre>LabelEncoder()</pre></div></div></div></div></div>"
      ],
      "text/plain": [
       "LabelEncoder()"
      ]
     },
     "execution_count": 27,
     "metadata": {},
     "output_type": "execute_result"
    }
   ],
   "source": [
    "le = LabelEncoder()\n",
    "le "
   ]
  },
  {
   "cell_type": "code",
   "execution_count": 28,
   "id": "0d1e23e6",
   "metadata": {
    "ExecuteTime": {
     "end_time": "2023-04-22T03:13:47.948694Z",
     "start_time": "2023-04-22T03:13:47.942673Z"
    },
    "hidden": true
   },
   "outputs": [],
   "source": [
    "y_train = le.fit_transform(y_train)"
   ]
  },
  {
   "cell_type": "code",
   "execution_count": 29,
   "id": "2f402608",
   "metadata": {
    "ExecuteTime": {
     "end_time": "2023-04-22T03:13:47.961904Z",
     "start_time": "2023-04-22T03:13:47.954067Z"
    },
    "hidden": true
   },
   "outputs": [],
   "source": [
    "y_test = le.transform(y_test)"
   ]
  },
  {
   "cell_type": "markdown",
   "id": "96f7397d",
   "metadata": {
    "heading_collapsed": true
   },
   "source": [
    "# 5. Treino e performance"
   ]
  },
  {
   "cell_type": "code",
   "execution_count": 30,
   "id": "b3e908e1",
   "metadata": {
    "ExecuteTime": {
     "end_time": "2023-04-22T03:13:48.006051Z",
     "start_time": "2023-04-22T03:13:47.966871Z"
    },
    "hidden": true
   },
   "outputs": [],
   "source": [
    "from sklearn.ensemble import RandomForestClassifier\n",
    "from sklearn.metrics import accuracy_score, recall_score, precision_score"
   ]
  },
  {
   "cell_type": "code",
   "execution_count": 31,
   "id": "5430db44",
   "metadata": {
    "ExecuteTime": {
     "end_time": "2023-04-22T03:13:48.026468Z",
     "start_time": "2023-04-22T03:13:48.012405Z"
    },
    "hidden": true
   },
   "outputs": [],
   "source": [
    "def ml_metrics(model_name, y_test, y_pred):\n",
    "    accuracy = accuracy_score(y_test, y_pred)\n",
    "    recall = recall_score(y_test, y_pred)\n",
    "    precision = precision_score(y_test, y_pred)\n",
    "    return pd.DataFrame([{'Model': model_name, 'Accuracy': accuracy, 'Recall': recall,\n",
    "                          'Precision': precision}], index=[0])"
   ]
  },
  {
   "cell_type": "code",
   "execution_count": 32,
   "id": "46e8396e",
   "metadata": {
    "ExecuteTime": {
     "end_time": "2023-04-22T03:13:48.034660Z",
     "start_time": "2023-04-22T03:13:48.030886Z"
    },
    "hidden": true
   },
   "outputs": [],
   "source": [
    "rfc = RandomForestClassifier(class_weight='balanced',random_state=42, min_samples_leaf=25)"
   ]
  },
  {
   "cell_type": "code",
   "execution_count": 33,
   "id": "69189b59",
   "metadata": {
    "ExecuteTime": {
     "end_time": "2023-04-22T03:13:48.395210Z",
     "start_time": "2023-04-22T03:13:48.039766Z"
    },
    "hidden": true
   },
   "outputs": [
    {
     "data": {
      "text/html": [
       "<style>#sk-container-id-2 {color: black;background-color: white;}#sk-container-id-2 pre{padding: 0;}#sk-container-id-2 div.sk-toggleable {background-color: white;}#sk-container-id-2 label.sk-toggleable__label {cursor: pointer;display: block;width: 100%;margin-bottom: 0;padding: 0.3em;box-sizing: border-box;text-align: center;}#sk-container-id-2 label.sk-toggleable__label-arrow:before {content: \"▸\";float: left;margin-right: 0.25em;color: #696969;}#sk-container-id-2 label.sk-toggleable__label-arrow:hover:before {color: black;}#sk-container-id-2 div.sk-estimator:hover label.sk-toggleable__label-arrow:before {color: black;}#sk-container-id-2 div.sk-toggleable__content {max-height: 0;max-width: 0;overflow: hidden;text-align: left;background-color: #f0f8ff;}#sk-container-id-2 div.sk-toggleable__content pre {margin: 0.2em;color: black;border-radius: 0.25em;background-color: #f0f8ff;}#sk-container-id-2 input.sk-toggleable__control:checked~div.sk-toggleable__content {max-height: 200px;max-width: 100%;overflow: auto;}#sk-container-id-2 input.sk-toggleable__control:checked~label.sk-toggleable__label-arrow:before {content: \"▾\";}#sk-container-id-2 div.sk-estimator input.sk-toggleable__control:checked~label.sk-toggleable__label {background-color: #d4ebff;}#sk-container-id-2 div.sk-label input.sk-toggleable__control:checked~label.sk-toggleable__label {background-color: #d4ebff;}#sk-container-id-2 input.sk-hidden--visually {border: 0;clip: rect(1px 1px 1px 1px);clip: rect(1px, 1px, 1px, 1px);height: 1px;margin: -1px;overflow: hidden;padding: 0;position: absolute;width: 1px;}#sk-container-id-2 div.sk-estimator {font-family: monospace;background-color: #f0f8ff;border: 1px dotted black;border-radius: 0.25em;box-sizing: border-box;margin-bottom: 0.5em;}#sk-container-id-2 div.sk-estimator:hover {background-color: #d4ebff;}#sk-container-id-2 div.sk-parallel-item::after {content: \"\";width: 100%;border-bottom: 1px solid gray;flex-grow: 1;}#sk-container-id-2 div.sk-label:hover label.sk-toggleable__label {background-color: #d4ebff;}#sk-container-id-2 div.sk-serial::before {content: \"\";position: absolute;border-left: 1px solid gray;box-sizing: border-box;top: 0;bottom: 0;left: 50%;z-index: 0;}#sk-container-id-2 div.sk-serial {display: flex;flex-direction: column;align-items: center;background-color: white;padding-right: 0.2em;padding-left: 0.2em;position: relative;}#sk-container-id-2 div.sk-item {position: relative;z-index: 1;}#sk-container-id-2 div.sk-parallel {display: flex;align-items: stretch;justify-content: center;background-color: white;position: relative;}#sk-container-id-2 div.sk-item::before, #sk-container-id-2 div.sk-parallel-item::before {content: \"\";position: absolute;border-left: 1px solid gray;box-sizing: border-box;top: 0;bottom: 0;left: 50%;z-index: -1;}#sk-container-id-2 div.sk-parallel-item {display: flex;flex-direction: column;z-index: 1;position: relative;background-color: white;}#sk-container-id-2 div.sk-parallel-item:first-child::after {align-self: flex-end;width: 50%;}#sk-container-id-2 div.sk-parallel-item:last-child::after {align-self: flex-start;width: 50%;}#sk-container-id-2 div.sk-parallel-item:only-child::after {width: 0;}#sk-container-id-2 div.sk-dashed-wrapped {border: 1px dashed gray;margin: 0 0.4em 0.5em 0.4em;box-sizing: border-box;padding-bottom: 0.4em;background-color: white;}#sk-container-id-2 div.sk-label label {font-family: monospace;font-weight: bold;display: inline-block;line-height: 1.2em;}#sk-container-id-2 div.sk-label-container {text-align: center;}#sk-container-id-2 div.sk-container {/* jupyter's `normalize.less` sets `[hidden] { display: none; }` but bootstrap.min.css set `[hidden] { display: none !important; }` so we also need the `!important` here to be able to override the default hidden behavior on the sphinx rendered scikit-learn.org. See: https://github.com/scikit-learn/scikit-learn/issues/21755 */display: inline-block !important;position: relative;}#sk-container-id-2 div.sk-text-repr-fallback {display: none;}</style><div id=\"sk-container-id-2\" class=\"sk-top-container\"><div class=\"sk-text-repr-fallback\"><pre>RandomForestClassifier(class_weight=&#x27;balanced&#x27;, min_samples_leaf=25,\n",
       "                       random_state=42)</pre><b>In a Jupyter environment, please rerun this cell to show the HTML representation or trust the notebook. <br />On GitHub, the HTML representation is unable to render, please try loading this page with nbviewer.org.</b></div><div class=\"sk-container\" hidden><div class=\"sk-item\"><div class=\"sk-estimator sk-toggleable\"><input class=\"sk-toggleable__control sk-hidden--visually\" id=\"sk-estimator-id-2\" type=\"checkbox\" checked><label for=\"sk-estimator-id-2\" class=\"sk-toggleable__label sk-toggleable__label-arrow\">RandomForestClassifier</label><div class=\"sk-toggleable__content\"><pre>RandomForestClassifier(class_weight=&#x27;balanced&#x27;, min_samples_leaf=25,\n",
       "                       random_state=42)</pre></div></div></div></div></div>"
      ],
      "text/plain": [
       "RandomForestClassifier(class_weight='balanced', min_samples_leaf=25,\n",
       "                       random_state=42)"
      ]
     },
     "execution_count": 33,
     "metadata": {},
     "output_type": "execute_result"
    }
   ],
   "source": [
    "rfc.fit(X_train, y_train)"
   ]
  },
  {
   "cell_type": "code",
   "execution_count": 34,
   "id": "64789088",
   "metadata": {
    "ExecuteTime": {
     "end_time": "2023-04-22T03:13:48.428754Z",
     "start_time": "2023-04-22T03:13:48.399045Z"
    },
    "hidden": true
   },
   "outputs": [],
   "source": [
    "y_pred = rfc.predict(X_test)"
   ]
  },
  {
   "cell_type": "code",
   "execution_count": 35,
   "id": "ce078625",
   "metadata": {
    "ExecuteTime": {
     "end_time": "2023-04-22T03:13:48.460734Z",
     "start_time": "2023-04-22T03:13:48.433637Z"
    },
    "hidden": true
   },
   "outputs": [
    {
     "data": {
      "text/html": [
       "<div>\n",
       "<style scoped>\n",
       "    .dataframe tbody tr th:only-of-type {\n",
       "        vertical-align: middle;\n",
       "    }\n",
       "\n",
       "    .dataframe tbody tr th {\n",
       "        vertical-align: top;\n",
       "    }\n",
       "\n",
       "    .dataframe thead th {\n",
       "        text-align: right;\n",
       "    }\n",
       "</style>\n",
       "<table border=\"1\" class=\"dataframe\">\n",
       "  <thead>\n",
       "    <tr style=\"text-align: right;\">\n",
       "      <th></th>\n",
       "      <th>Model</th>\n",
       "      <th>Accuracy</th>\n",
       "      <th>Recall</th>\n",
       "      <th>Precision</th>\n",
       "    </tr>\n",
       "  </thead>\n",
       "  <tbody>\n",
       "    <tr>\n",
       "      <th>0</th>\n",
       "      <td>Random Forest Classifier</td>\n",
       "      <td>0.77</td>\n",
       "      <td>0.8</td>\n",
       "      <td>0.526316</td>\n",
       "    </tr>\n",
       "  </tbody>\n",
       "</table>\n",
       "</div>"
      ],
      "text/plain": [
       "                      Model  Accuracy  Recall  Precision\n",
       "0  Random Forest Classifier      0.77     0.8   0.526316"
      ]
     },
     "execution_count": 35,
     "metadata": {},
     "output_type": "execute_result"
    }
   ],
   "source": [
    "rfc_result = ml_metrics('Random Forest Classifier',y_test, y_pred)\n",
    "rfc_result"
   ]
  }
 ],
 "metadata": {
  "kernelspec": {
   "display_name": "Python 3 (ipykernel)",
   "language": "python",
   "name": "python3"
  },
  "language_info": {
   "codemirror_mode": {
    "name": "ipython",
    "version": 3
   },
   "file_extension": ".py",
   "mimetype": "text/x-python",
   "name": "python",
   "nbconvert_exporter": "python",
   "pygments_lexer": "ipython3",
   "version": "3.10.6"
  },
  "varInspector": {
   "cols": {
    "lenName": 16,
    "lenType": 16,
    "lenVar": 40
   },
   "kernels_config": {
    "python": {
     "delete_cmd_postfix": "",
     "delete_cmd_prefix": "del ",
     "library": "var_list.py",
     "varRefreshCmd": "print(var_dic_list())"
    },
    "r": {
     "delete_cmd_postfix": ") ",
     "delete_cmd_prefix": "rm(",
     "library": "var_list.r",
     "varRefreshCmd": "cat(var_dic_list()) "
    }
   },
   "types_to_exclude": [
    "module",
    "function",
    "builtin_function_or_method",
    "instance",
    "_Feature"
   ],
   "window_display": false
  }
 },
 "nbformat": 4,
 "nbformat_minor": 5
}
